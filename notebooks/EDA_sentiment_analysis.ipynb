{
  "nbformat": 4,
  "nbformat_minor": 0,
  "metadata": {
    "colab": {
      "provenance": []
    },
    "kernelspec": {
      "name": "python3",
      "display_name": "Python 3"
    },
    "language_info": {
      "name": "python"
    }
  },
  "cells": [
    {
      "cell_type": "markdown",
      "source": [
        "\n",
        "# **Introduction and Setup**:\n",
        "\n",
        "##**Briefly explain the purpose of the notebook.**\n",
        "\n",
        "The purpose of this notebook is to perform Exploratory Data Analysis (EDA) on a sentiment analysis project dataset. Sentiment analysis involves determining the sentiment or emotional tone expressed in a piece of text, typically classified into positive, negative, or neutral sentiments. EDA helps us gain insights into the dataset's characteristics, distribution of sentiments, and key textual features, which in turn aids in building an effective sentiment analysis model.\n",
        "\n",
        "Exploratory Data Analysis (EDA) plays a crucial role in a sentiment analysis project as it helps us in the following ways:\n",
        "\n",
        "\n",
        "*   Understanding Data Distribution\n",
        "*   Identifying Data Quality Issues\n",
        "*   Preprocessing Strategy\n",
        "*   Top Words Analysis\n"
      ],
      "metadata": {
        "id": "9BDo8UdEiMYG"
      }
    },
    {
      "cell_type": "markdown",
      "source": [
        "## **Import necessary libraries.**"
      ],
      "metadata": {
        "id": "govwAwtnkFFF"
      }
    },
    {
      "cell_type": "code",
      "source": [
        "import pandas as pd\n",
        "from collections import defaultdict\n",
        "%matplotlib inline\n",
        "from plotly import graph_objs as go\n",
        "import plotly.express as px\n",
        "import nltk\n",
        "import string\n",
        "from nltk.corpus import stopwords\n",
        "from nltk.stem import PorterStemmer\n",
        "from collections import defaultdict\n",
        "\n",
        "\n",
        "# Download NLTK resources if not already downloaded\n",
        "nltk.download('punkt')\n",
        "nltk.download(\"stopwords\")"
      ],
      "metadata": {
        "colab": {
          "base_uri": "https://localhost:8080/"
        },
        "id": "V52ACuTQa-Gp",
        "outputId": "5d1a270e-3ffa-48f6-d1b6-cecf94506b4f"
      },
      "execution_count": 85,
      "outputs": [
        {
          "output_type": "stream",
          "name": "stderr",
          "text": [
            "[nltk_data] Downloading package punkt to /root/nltk_data...\n",
            "[nltk_data]   Package punkt is already up-to-date!\n",
            "[nltk_data] Downloading package stopwords to /root/nltk_data...\n",
            "[nltk_data]   Package stopwords is already up-to-date!\n"
          ]
        },
        {
          "output_type": "execute_result",
          "data": {
            "text/plain": [
              "True"
            ]
          },
          "metadata": {},
          "execution_count": 85
        }
      ]
    },
    {
      "cell_type": "markdown",
      "source": [
        "## **Load the dataset.**"
      ],
      "metadata": {
        "id": "s06lGCn6kMds"
      }
    },
    {
      "cell_type": "code",
      "source": [
        "# Load the dataset from a CSV file\n",
        "csv_file_path = '/data/train.csv'\n",
        "df = pd.read_csv(csv_file_path)\n",
        "\n",
        "# Drop the 'selected_text' column as it's not needed for this analysis\n",
        "df = df.drop(columns=['selected_text'])\n",
        "\n",
        "# Convert the 'text' column to string type\n",
        "df[\"text\"] = df[\"text\"].astype(str)"
      ],
      "metadata": {
        "id": "87oSJyGUaxF2"
      },
      "execution_count": 86,
      "outputs": []
    },
    {
      "cell_type": "markdown",
      "source": [
        "# **Data Exploration**\n",
        "Display basic information about the dataset using df.shape, df.info(), and df.head()."
      ],
      "metadata": {
        "id": "dxTzIyGXkRk6"
      }
    },
    {
      "cell_type": "code",
      "source": [
        "# Display the shape and basic info of the DataFrame\n",
        "print(df.shape)\n"
      ],
      "metadata": {
        "colab": {
          "base_uri": "https://localhost:8080/"
        },
        "id": "r1dcKLT7bwYp",
        "outputId": "757bdcc2-346d-44ee-cc2f-3446028fb45e"
      },
      "execution_count": 87,
      "outputs": [
        {
          "output_type": "stream",
          "name": "stdout",
          "text": [
            "(27664, 3)\n"
          ]
        }
      ]
    },
    {
      "cell_type": "code",
      "source": [
        "df.info()"
      ],
      "metadata": {
        "colab": {
          "base_uri": "https://localhost:8080/"
        },
        "id": "h043Y2yJb1Vo",
        "outputId": "c4914ad3-da1d-4bc7-a322-1db0fe0b7c7e"
      },
      "execution_count": 88,
      "outputs": [
        {
          "output_type": "stream",
          "name": "stdout",
          "text": [
            "<class 'pandas.core.frame.DataFrame'>\n",
            "RangeIndex: 27664 entries, 0 to 27663\n",
            "Data columns (total 3 columns):\n",
            " #   Column     Non-Null Count  Dtype \n",
            "---  ------     --------------  ----- \n",
            " 0   textID     27664 non-null  object\n",
            " 1   text       27664 non-null  object\n",
            " 2   sentiment  27664 non-null  object\n",
            "dtypes: object(3)\n",
            "memory usage: 648.5+ KB\n"
          ]
        }
      ]
    },
    {
      "cell_type": "markdown",
      "source": [
        "# **Sentiment Distribution Visualization:**\n",
        "*   **Group and count sentiment values.**"
      ],
      "metadata": {
        "id": "ZUAzbsr3ka9Z"
      }
    },
    {
      "cell_type": "code",
      "source": [
        "# Group the data by sentiment and count the number of entries for each sentiment\n",
        "temp = df.groupby('sentiment').count()['text'].reset_index().sort_values(by='text', ascending=False)\n",
        "\n",
        "# Apply background gradient styling to the 'temp' DataFrame\n",
        "styled_temp = temp.style.background_gradient(cmap='Purples')"
      ],
      "metadata": {
        "id": "kaKPZybXrMUe"
      },
      "execution_count": 89,
      "outputs": []
    },
    {
      "cell_type": "markdown",
      "source": [
        "\n",
        "*   **Visualize sentiment distribution using a Funnel-Chart.**\n",
        "\n"
      ],
      "metadata": {
        "id": "kX-9sE_lbdya"
      }
    },
    {
      "cell_type": "code",
      "source": [
        "# Create a Funnel-Chart using Plotly to visualize sentiment distribution\n",
        "fig = go.Figure(go.Funnelarea(\n",
        "    text=temp.sentiment,\n",
        "    values=temp.text,\n",
        "    title={\"position\": \"top center\", \"text\": \"Funnel-Chart of Sentiment Distribution\"}\n",
        "))\n",
        "# Show the Funnel-Chart using the specified renderer\n",
        "fig.show(renderer=\"colab\")"
      ],
      "metadata": {
        "colab": {
          "base_uri": "https://localhost:8080/",
          "height": 542
        },
        "id": "Dw9P0ovdG7g-",
        "outputId": "84662579-5769-438b-e1bd-ce1ee37195f2"
      },
      "execution_count": 90,
      "outputs": [
        {
          "output_type": "display_data",
          "data": {
            "text/html": [
              "<html>\n",
              "<head><meta charset=\"utf-8\" /></head>\n",
              "<body>\n",
              "    <div>            <script src=\"https://cdnjs.cloudflare.com/ajax/libs/mathjax/2.7.5/MathJax.js?config=TeX-AMS-MML_SVG\"></script><script type=\"text/javascript\">if (window.MathJax && window.MathJax.Hub && window.MathJax.Hub.Config) {window.MathJax.Hub.Config({SVG: {font: \"STIX-Web\"}});}</script>                <script type=\"text/javascript\">window.PlotlyConfig = {MathJaxConfig: 'local'};</script>\n",
              "        <script src=\"https://cdn.plot.ly/plotly-2.18.2.min.js\"></script>                <div id=\"23643942-85a6-4b26-8fb1-facc2f3dcfb6\" class=\"plotly-graph-div\" style=\"height:525px; width:100%;\"></div>            <script type=\"text/javascript\">                                    window.PLOTLYENV=window.PLOTLYENV || {};                                    if (document.getElementById(\"23643942-85a6-4b26-8fb1-facc2f3dcfb6\")) {                    Plotly.newPlot(                        \"23643942-85a6-4b26-8fb1-facc2f3dcfb6\",                        [{\"text\":[\"neutral\",\"positive\",\"negative\"],\"title\":{\"position\":\"top center\",\"text\":\"Funnel-Chart of Sentiment Distribution\"},\"values\":[11118,8582,7964],\"type\":\"funnelarea\"}],                        {\"template\":{\"data\":{\"histogram2dcontour\":[{\"type\":\"histogram2dcontour\",\"colorbar\":{\"outlinewidth\":0,\"ticks\":\"\"},\"colorscale\":[[0.0,\"#0d0887\"],[0.1111111111111111,\"#46039f\"],[0.2222222222222222,\"#7201a8\"],[0.3333333333333333,\"#9c179e\"],[0.4444444444444444,\"#bd3786\"],[0.5555555555555556,\"#d8576b\"],[0.6666666666666666,\"#ed7953\"],[0.7777777777777778,\"#fb9f3a\"],[0.8888888888888888,\"#fdca26\"],[1.0,\"#f0f921\"]]}],\"choropleth\":[{\"type\":\"choropleth\",\"colorbar\":{\"outlinewidth\":0,\"ticks\":\"\"}}],\"histogram2d\":[{\"type\":\"histogram2d\",\"colorbar\":{\"outlinewidth\":0,\"ticks\":\"\"},\"colorscale\":[[0.0,\"#0d0887\"],[0.1111111111111111,\"#46039f\"],[0.2222222222222222,\"#7201a8\"],[0.3333333333333333,\"#9c179e\"],[0.4444444444444444,\"#bd3786\"],[0.5555555555555556,\"#d8576b\"],[0.6666666666666666,\"#ed7953\"],[0.7777777777777778,\"#fb9f3a\"],[0.8888888888888888,\"#fdca26\"],[1.0,\"#f0f921\"]]}],\"heatmap\":[{\"type\":\"heatmap\",\"colorbar\":{\"outlinewidth\":0,\"ticks\":\"\"},\"colorscale\":[[0.0,\"#0d0887\"],[0.1111111111111111,\"#46039f\"],[0.2222222222222222,\"#7201a8\"],[0.3333333333333333,\"#9c179e\"],[0.4444444444444444,\"#bd3786\"],[0.5555555555555556,\"#d8576b\"],[0.6666666666666666,\"#ed7953\"],[0.7777777777777778,\"#fb9f3a\"],[0.8888888888888888,\"#fdca26\"],[1.0,\"#f0f921\"]]}],\"heatmapgl\":[{\"type\":\"heatmapgl\",\"colorbar\":{\"outlinewidth\":0,\"ticks\":\"\"},\"colorscale\":[[0.0,\"#0d0887\"],[0.1111111111111111,\"#46039f\"],[0.2222222222222222,\"#7201a8\"],[0.3333333333333333,\"#9c179e\"],[0.4444444444444444,\"#bd3786\"],[0.5555555555555556,\"#d8576b\"],[0.6666666666666666,\"#ed7953\"],[0.7777777777777778,\"#fb9f3a\"],[0.8888888888888888,\"#fdca26\"],[1.0,\"#f0f921\"]]}],\"contourcarpet\":[{\"type\":\"contourcarpet\",\"colorbar\":{\"outlinewidth\":0,\"ticks\":\"\"}}],\"contour\":[{\"type\":\"contour\",\"colorbar\":{\"outlinewidth\":0,\"ticks\":\"\"},\"colorscale\":[[0.0,\"#0d0887\"],[0.1111111111111111,\"#46039f\"],[0.2222222222222222,\"#7201a8\"],[0.3333333333333333,\"#9c179e\"],[0.4444444444444444,\"#bd3786\"],[0.5555555555555556,\"#d8576b\"],[0.6666666666666666,\"#ed7953\"],[0.7777777777777778,\"#fb9f3a\"],[0.8888888888888888,\"#fdca26\"],[1.0,\"#f0f921\"]]}],\"surface\":[{\"type\":\"surface\",\"colorbar\":{\"outlinewidth\":0,\"ticks\":\"\"},\"colorscale\":[[0.0,\"#0d0887\"],[0.1111111111111111,\"#46039f\"],[0.2222222222222222,\"#7201a8\"],[0.3333333333333333,\"#9c179e\"],[0.4444444444444444,\"#bd3786\"],[0.5555555555555556,\"#d8576b\"],[0.6666666666666666,\"#ed7953\"],[0.7777777777777778,\"#fb9f3a\"],[0.8888888888888888,\"#fdca26\"],[1.0,\"#f0f921\"]]}],\"mesh3d\":[{\"type\":\"mesh3d\",\"colorbar\":{\"outlinewidth\":0,\"ticks\":\"\"}}],\"scatter\":[{\"fillpattern\":{\"fillmode\":\"overlay\",\"size\":10,\"solidity\":0.2},\"type\":\"scatter\"}],\"parcoords\":[{\"type\":\"parcoords\",\"line\":{\"colorbar\":{\"outlinewidth\":0,\"ticks\":\"\"}}}],\"scatterpolargl\":[{\"type\":\"scatterpolargl\",\"marker\":{\"colorbar\":{\"outlinewidth\":0,\"ticks\":\"\"}}}],\"bar\":[{\"error_x\":{\"color\":\"#2a3f5f\"},\"error_y\":{\"color\":\"#2a3f5f\"},\"marker\":{\"line\":{\"color\":\"#E5ECF6\",\"width\":0.5},\"pattern\":{\"fillmode\":\"overlay\",\"size\":10,\"solidity\":0.2}},\"type\":\"bar\"}],\"scattergeo\":[{\"type\":\"scattergeo\",\"marker\":{\"colorbar\":{\"outlinewidth\":0,\"ticks\":\"\"}}}],\"scatterpolar\":[{\"type\":\"scatterpolar\",\"marker\":{\"colorbar\":{\"outlinewidth\":0,\"ticks\":\"\"}}}],\"histogram\":[{\"marker\":{\"pattern\":{\"fillmode\":\"overlay\",\"size\":10,\"solidity\":0.2}},\"type\":\"histogram\"}],\"scattergl\":[{\"type\":\"scattergl\",\"marker\":{\"colorbar\":{\"outlinewidth\":0,\"ticks\":\"\"}}}],\"scatter3d\":[{\"type\":\"scatter3d\",\"line\":{\"colorbar\":{\"outlinewidth\":0,\"ticks\":\"\"}},\"marker\":{\"colorbar\":{\"outlinewidth\":0,\"ticks\":\"\"}}}],\"scattermapbox\":[{\"type\":\"scattermapbox\",\"marker\":{\"colorbar\":{\"outlinewidth\":0,\"ticks\":\"\"}}}],\"scatterternary\":[{\"type\":\"scatterternary\",\"marker\":{\"colorbar\":{\"outlinewidth\":0,\"ticks\":\"\"}}}],\"scattercarpet\":[{\"type\":\"scattercarpet\",\"marker\":{\"colorbar\":{\"outlinewidth\":0,\"ticks\":\"\"}}}],\"carpet\":[{\"aaxis\":{\"endlinecolor\":\"#2a3f5f\",\"gridcolor\":\"white\",\"linecolor\":\"white\",\"minorgridcolor\":\"white\",\"startlinecolor\":\"#2a3f5f\"},\"baxis\":{\"endlinecolor\":\"#2a3f5f\",\"gridcolor\":\"white\",\"linecolor\":\"white\",\"minorgridcolor\":\"white\",\"startlinecolor\":\"#2a3f5f\"},\"type\":\"carpet\"}],\"table\":[{\"cells\":{\"fill\":{\"color\":\"#EBF0F8\"},\"line\":{\"color\":\"white\"}},\"header\":{\"fill\":{\"color\":\"#C8D4E3\"},\"line\":{\"color\":\"white\"}},\"type\":\"table\"}],\"barpolar\":[{\"marker\":{\"line\":{\"color\":\"#E5ECF6\",\"width\":0.5},\"pattern\":{\"fillmode\":\"overlay\",\"size\":10,\"solidity\":0.2}},\"type\":\"barpolar\"}],\"pie\":[{\"automargin\":true,\"type\":\"pie\"}]},\"layout\":{\"autotypenumbers\":\"strict\",\"colorway\":[\"#636efa\",\"#EF553B\",\"#00cc96\",\"#ab63fa\",\"#FFA15A\",\"#19d3f3\",\"#FF6692\",\"#B6E880\",\"#FF97FF\",\"#FECB52\"],\"font\":{\"color\":\"#2a3f5f\"},\"hovermode\":\"closest\",\"hoverlabel\":{\"align\":\"left\"},\"paper_bgcolor\":\"white\",\"plot_bgcolor\":\"#E5ECF6\",\"polar\":{\"bgcolor\":\"#E5ECF6\",\"angularaxis\":{\"gridcolor\":\"white\",\"linecolor\":\"white\",\"ticks\":\"\"},\"radialaxis\":{\"gridcolor\":\"white\",\"linecolor\":\"white\",\"ticks\":\"\"}},\"ternary\":{\"bgcolor\":\"#E5ECF6\",\"aaxis\":{\"gridcolor\":\"white\",\"linecolor\":\"white\",\"ticks\":\"\"},\"baxis\":{\"gridcolor\":\"white\",\"linecolor\":\"white\",\"ticks\":\"\"},\"caxis\":{\"gridcolor\":\"white\",\"linecolor\":\"white\",\"ticks\":\"\"}},\"coloraxis\":{\"colorbar\":{\"outlinewidth\":0,\"ticks\":\"\"}},\"colorscale\":{\"sequential\":[[0.0,\"#0d0887\"],[0.1111111111111111,\"#46039f\"],[0.2222222222222222,\"#7201a8\"],[0.3333333333333333,\"#9c179e\"],[0.4444444444444444,\"#bd3786\"],[0.5555555555555556,\"#d8576b\"],[0.6666666666666666,\"#ed7953\"],[0.7777777777777778,\"#fb9f3a\"],[0.8888888888888888,\"#fdca26\"],[1.0,\"#f0f921\"]],\"sequentialminus\":[[0.0,\"#0d0887\"],[0.1111111111111111,\"#46039f\"],[0.2222222222222222,\"#7201a8\"],[0.3333333333333333,\"#9c179e\"],[0.4444444444444444,\"#bd3786\"],[0.5555555555555556,\"#d8576b\"],[0.6666666666666666,\"#ed7953\"],[0.7777777777777778,\"#fb9f3a\"],[0.8888888888888888,\"#fdca26\"],[1.0,\"#f0f921\"]],\"diverging\":[[0,\"#8e0152\"],[0.1,\"#c51b7d\"],[0.2,\"#de77ae\"],[0.3,\"#f1b6da\"],[0.4,\"#fde0ef\"],[0.5,\"#f7f7f7\"],[0.6,\"#e6f5d0\"],[0.7,\"#b8e186\"],[0.8,\"#7fbc41\"],[0.9,\"#4d9221\"],[1,\"#276419\"]]},\"xaxis\":{\"gridcolor\":\"white\",\"linecolor\":\"white\",\"ticks\":\"\",\"title\":{\"standoff\":15},\"zerolinecolor\":\"white\",\"automargin\":true,\"zerolinewidth\":2},\"yaxis\":{\"gridcolor\":\"white\",\"linecolor\":\"white\",\"ticks\":\"\",\"title\":{\"standoff\":15},\"zerolinecolor\":\"white\",\"automargin\":true,\"zerolinewidth\":2},\"scene\":{\"xaxis\":{\"backgroundcolor\":\"#E5ECF6\",\"gridcolor\":\"white\",\"linecolor\":\"white\",\"showbackground\":true,\"ticks\":\"\",\"zerolinecolor\":\"white\",\"gridwidth\":2},\"yaxis\":{\"backgroundcolor\":\"#E5ECF6\",\"gridcolor\":\"white\",\"linecolor\":\"white\",\"showbackground\":true,\"ticks\":\"\",\"zerolinecolor\":\"white\",\"gridwidth\":2},\"zaxis\":{\"backgroundcolor\":\"#E5ECF6\",\"gridcolor\":\"white\",\"linecolor\":\"white\",\"showbackground\":true,\"ticks\":\"\",\"zerolinecolor\":\"white\",\"gridwidth\":2}},\"shapedefaults\":{\"line\":{\"color\":\"#2a3f5f\"}},\"annotationdefaults\":{\"arrowcolor\":\"#2a3f5f\",\"arrowhead\":0,\"arrowwidth\":1},\"geo\":{\"bgcolor\":\"white\",\"landcolor\":\"#E5ECF6\",\"subunitcolor\":\"white\",\"showland\":true,\"showlakes\":true,\"lakecolor\":\"white\"},\"title\":{\"x\":0.05},\"mapbox\":{\"style\":\"light\"}}}},                        {\"responsive\": true}                    ).then(function(){\n",
              "                            \n",
              "var gd = document.getElementById('23643942-85a6-4b26-8fb1-facc2f3dcfb6');\n",
              "var x = new MutationObserver(function (mutations, observer) {{\n",
              "        var display = window.getComputedStyle(gd).display;\n",
              "        if (!display || display === 'none') {{\n",
              "            console.log([gd, 'removed!']);\n",
              "            Plotly.purge(gd);\n",
              "            observer.disconnect();\n",
              "        }}\n",
              "}});\n",
              "\n",
              "// Listen for the removal of the full notebook cells\n",
              "var notebookContainer = gd.closest('#notebook-container');\n",
              "if (notebookContainer) {{\n",
              "    x.observe(notebookContainer, {childList: true});\n",
              "}}\n",
              "\n",
              "// Listen for the clearing of the current output cell\n",
              "var outputEl = gd.closest('.output');\n",
              "if (outputEl) {{\n",
              "    x.observe(outputEl, {childList: true});\n",
              "}}\n",
              "\n",
              "                        })                };                            </script>        </div>\n",
              "</body>\n",
              "</html>"
            ]
          },
          "metadata": {}
        }
      ]
    },
    {
      "cell_type": "code",
      "source": [
        "# Display the first few rows of the DataFrame\n",
        "df.head()"
      ],
      "metadata": {
        "colab": {
          "base_uri": "https://localhost:8080/",
          "height": 206
        },
        "id": "ywmYMamqq9dw",
        "outputId": "81ca45f7-d617-4cb1-d5cf-3139dca1f686"
      },
      "execution_count": 91,
      "outputs": [
        {
          "output_type": "execute_result",
          "data": {
            "text/plain": [
              "       textID                                               text sentiment\n",
              "0  cb774db0d1                I`d have responded, if I were going   neutral\n",
              "1  549e992a42      Sooo SAD I will miss you here in San Diego!!!  negative\n",
              "2  088c60f138                          my boss is bullying me...  negative\n",
              "3  9642c003ef                     what interview! leave me alone  negative\n",
              "4  358bd9e861   Sons of ****, why couldn`t they put them on t...  negative"
            ],
            "text/html": [
              "\n",
              "\n",
              "  <div id=\"df-4ce99f45-3f19-45b7-99f7-2da93d7bdcaf\">\n",
              "    <div class=\"colab-df-container\">\n",
              "      <div>\n",
              "<style scoped>\n",
              "    .dataframe tbody tr th:only-of-type {\n",
              "        vertical-align: middle;\n",
              "    }\n",
              "\n",
              "    .dataframe tbody tr th {\n",
              "        vertical-align: top;\n",
              "    }\n",
              "\n",
              "    .dataframe thead th {\n",
              "        text-align: right;\n",
              "    }\n",
              "</style>\n",
              "<table border=\"1\" class=\"dataframe\">\n",
              "  <thead>\n",
              "    <tr style=\"text-align: right;\">\n",
              "      <th></th>\n",
              "      <th>textID</th>\n",
              "      <th>text</th>\n",
              "      <th>sentiment</th>\n",
              "    </tr>\n",
              "  </thead>\n",
              "  <tbody>\n",
              "    <tr>\n",
              "      <th>0</th>\n",
              "      <td>cb774db0d1</td>\n",
              "      <td>I`d have responded, if I were going</td>\n",
              "      <td>neutral</td>\n",
              "    </tr>\n",
              "    <tr>\n",
              "      <th>1</th>\n",
              "      <td>549e992a42</td>\n",
              "      <td>Sooo SAD I will miss you here in San Diego!!!</td>\n",
              "      <td>negative</td>\n",
              "    </tr>\n",
              "    <tr>\n",
              "      <th>2</th>\n",
              "      <td>088c60f138</td>\n",
              "      <td>my boss is bullying me...</td>\n",
              "      <td>negative</td>\n",
              "    </tr>\n",
              "    <tr>\n",
              "      <th>3</th>\n",
              "      <td>9642c003ef</td>\n",
              "      <td>what interview! leave me alone</td>\n",
              "      <td>negative</td>\n",
              "    </tr>\n",
              "    <tr>\n",
              "      <th>4</th>\n",
              "      <td>358bd9e861</td>\n",
              "      <td>Sons of ****, why couldn`t they put them on t...</td>\n",
              "      <td>negative</td>\n",
              "    </tr>\n",
              "  </tbody>\n",
              "</table>\n",
              "</div>\n",
              "      <button class=\"colab-df-convert\" onclick=\"convertToInteractive('df-4ce99f45-3f19-45b7-99f7-2da93d7bdcaf')\"\n",
              "              title=\"Convert this dataframe to an interactive table.\"\n",
              "              style=\"display:none;\">\n",
              "\n",
              "  <svg xmlns=\"http://www.w3.org/2000/svg\" height=\"24px\"viewBox=\"0 0 24 24\"\n",
              "       width=\"24px\">\n",
              "    <path d=\"M0 0h24v24H0V0z\" fill=\"none\"/>\n",
              "    <path d=\"M18.56 5.44l.94 2.06.94-2.06 2.06-.94-2.06-.94-.94-2.06-.94 2.06-2.06.94zm-11 1L8.5 8.5l.94-2.06 2.06-.94-2.06-.94L8.5 2.5l-.94 2.06-2.06.94zm10 10l.94 2.06.94-2.06 2.06-.94-2.06-.94-.94-2.06-.94 2.06-2.06.94z\"/><path d=\"M17.41 7.96l-1.37-1.37c-.4-.4-.92-.59-1.43-.59-.52 0-1.04.2-1.43.59L10.3 9.45l-7.72 7.72c-.78.78-.78 2.05 0 2.83L4 21.41c.39.39.9.59 1.41.59.51 0 1.02-.2 1.41-.59l7.78-7.78 2.81-2.81c.8-.78.8-2.07 0-2.86zM5.41 20L4 18.59l7.72-7.72 1.47 1.35L5.41 20z\"/>\n",
              "  </svg>\n",
              "      </button>\n",
              "\n",
              "\n",
              "\n",
              "    <div id=\"df-50e008ad-3861-4280-88fc-1c7e069293a5\">\n",
              "      <button class=\"colab-df-quickchart\" onclick=\"quickchart('df-50e008ad-3861-4280-88fc-1c7e069293a5')\"\n",
              "              title=\"Suggest charts.\"\n",
              "              style=\"display:none;\">\n",
              "\n",
              "<svg xmlns=\"http://www.w3.org/2000/svg\" height=\"24px\"viewBox=\"0 0 24 24\"\n",
              "     width=\"24px\">\n",
              "    <g>\n",
              "        <path d=\"M19 3H5c-1.1 0-2 .9-2 2v14c0 1.1.9 2 2 2h14c1.1 0 2-.9 2-2V5c0-1.1-.9-2-2-2zM9 17H7v-7h2v7zm4 0h-2V7h2v10zm4 0h-2v-4h2v4z\"/>\n",
              "    </g>\n",
              "</svg>\n",
              "      </button>\n",
              "    </div>\n",
              "\n",
              "<style>\n",
              "  .colab-df-quickchart {\n",
              "    background-color: #E8F0FE;\n",
              "    border: none;\n",
              "    border-radius: 50%;\n",
              "    cursor: pointer;\n",
              "    display: none;\n",
              "    fill: #1967D2;\n",
              "    height: 32px;\n",
              "    padding: 0 0 0 0;\n",
              "    width: 32px;\n",
              "  }\n",
              "\n",
              "  .colab-df-quickchart:hover {\n",
              "    background-color: #E2EBFA;\n",
              "    box-shadow: 0px 1px 2px rgba(60, 64, 67, 0.3), 0px 1px 3px 1px rgba(60, 64, 67, 0.15);\n",
              "    fill: #174EA6;\n",
              "  }\n",
              "\n",
              "  [theme=dark] .colab-df-quickchart {\n",
              "    background-color: #3B4455;\n",
              "    fill: #D2E3FC;\n",
              "  }\n",
              "\n",
              "  [theme=dark] .colab-df-quickchart:hover {\n",
              "    background-color: #434B5C;\n",
              "    box-shadow: 0px 1px 3px 1px rgba(0, 0, 0, 0.15);\n",
              "    filter: drop-shadow(0px 1px 2px rgba(0, 0, 0, 0.3));\n",
              "    fill: #FFFFFF;\n",
              "  }\n",
              "</style>\n",
              "\n",
              "    <script>\n",
              "      async function quickchart(key) {\n",
              "        const containerElement = document.querySelector('#' + key);\n",
              "        const charts = await google.colab.kernel.invokeFunction(\n",
              "            'suggestCharts', [key], {});\n",
              "      }\n",
              "    </script>\n",
              "\n",
              "      <script>\n",
              "\n",
              "function displayQuickchartButton(domScope) {\n",
              "  let quickchartButtonEl =\n",
              "    domScope.querySelector('#df-50e008ad-3861-4280-88fc-1c7e069293a5 button.colab-df-quickchart');\n",
              "  quickchartButtonEl.style.display =\n",
              "    google.colab.kernel.accessAllowed ? 'block' : 'none';\n",
              "}\n",
              "\n",
              "        displayQuickchartButton(document);\n",
              "      </script>\n",
              "      <style>\n",
              "    .colab-df-container {\n",
              "      display:flex;\n",
              "      flex-wrap:wrap;\n",
              "      gap: 12px;\n",
              "    }\n",
              "\n",
              "    .colab-df-convert {\n",
              "      background-color: #E8F0FE;\n",
              "      border: none;\n",
              "      border-radius: 50%;\n",
              "      cursor: pointer;\n",
              "      display: none;\n",
              "      fill: #1967D2;\n",
              "      height: 32px;\n",
              "      padding: 0 0 0 0;\n",
              "      width: 32px;\n",
              "    }\n",
              "\n",
              "    .colab-df-convert:hover {\n",
              "      background-color: #E2EBFA;\n",
              "      box-shadow: 0px 1px 2px rgba(60, 64, 67, 0.3), 0px 1px 3px 1px rgba(60, 64, 67, 0.15);\n",
              "      fill: #174EA6;\n",
              "    }\n",
              "\n",
              "    [theme=dark] .colab-df-convert {\n",
              "      background-color: #3B4455;\n",
              "      fill: #D2E3FC;\n",
              "    }\n",
              "\n",
              "    [theme=dark] .colab-df-convert:hover {\n",
              "      background-color: #434B5C;\n",
              "      box-shadow: 0px 1px 3px 1px rgba(0, 0, 0, 0.15);\n",
              "      filter: drop-shadow(0px 1px 2px rgba(0, 0, 0, 0.3));\n",
              "      fill: #FFFFFF;\n",
              "    }\n",
              "  </style>\n",
              "\n",
              "      <script>\n",
              "        const buttonEl =\n",
              "          document.querySelector('#df-4ce99f45-3f19-45b7-99f7-2da93d7bdcaf button.colab-df-convert');\n",
              "        buttonEl.style.display =\n",
              "          google.colab.kernel.accessAllowed ? 'block' : 'none';\n",
              "\n",
              "        async function convertToInteractive(key) {\n",
              "          const element = document.querySelector('#df-4ce99f45-3f19-45b7-99f7-2da93d7bdcaf');\n",
              "          const dataTable =\n",
              "            await google.colab.kernel.invokeFunction('convertToInteractive',\n",
              "                                                     [key], {});\n",
              "          if (!dataTable) return;\n",
              "\n",
              "          const docLinkHtml = 'Like what you see? Visit the ' +\n",
              "            '<a target=\"_blank\" href=https://colab.research.google.com/notebooks/data_table.ipynb>data table notebook</a>'\n",
              "            + ' to learn more about interactive tables.';\n",
              "          element.innerHTML = '';\n",
              "          dataTable['output_type'] = 'display_data';\n",
              "          await google.colab.output.renderOutput(dataTable, element);\n",
              "          const docLink = document.createElement('div');\n",
              "          docLink.innerHTML = docLinkHtml;\n",
              "          element.appendChild(docLink);\n",
              "        }\n",
              "      </script>\n",
              "    </div>\n",
              "  </div>\n"
            ]
          },
          "metadata": {},
          "execution_count": 91
        }
      ]
    },
    {
      "cell_type": "markdown",
      "source": [
        "# **Text Preprocessing:**\n",
        "\n",
        "*   **Define the preprocess_tweet function.**\n"
      ],
      "metadata": {
        "id": "DW2SE8cKk74w"
      }
    },
    {
      "cell_type": "code",
      "source": [
        "# Preprocessing function to clean and tokenize tweets\n",
        "def preprocess_tweet(tweet):\n",
        "    tweet = tweet.lower()  # Convert text to lowercase\n",
        "    tweet = tweet.translate(str.maketrans(\"\", \"\", string.punctuation))  # Remove punctuation\n",
        "    tokens = nltk.word_tokenize(tweet)  # Tokenize the text\n",
        "    stemmer = PorterStemmer()  # Create a stemmer instance\n",
        "    stopwords_set = set(stopwords.words(\"english\"))  # Get a set of English stopwords\n",
        "    tokens = [stemmer.stem(token) for token in tokens if token not in stopwords_set]  # Apply stemming and remove stopwords\n",
        "    return tokens"
      ],
      "metadata": {
        "id": "9ia34pGZcrf9"
      },
      "execution_count": 92,
      "outputs": []
    },
    {
      "cell_type": "markdown",
      "source": [
        "*   **Define the calculate_word_counts function.**\n",
        "*  **Tokenize and preprocess text data using NLTK.**"
      ],
      "metadata": {
        "id": "s2umRRKjlHvd"
      }
    },
    {
      "cell_type": "code",
      "source": [
        "# Function to calculate word counts for a given list of tweets\n",
        "def calculate_word_counts(tweets):\n",
        "    word_count = defaultdict(int)\n",
        "    for tweet in tweets:\n",
        "        tokens = preprocess_tweet(tweet)  # Preprocess the tweet\n",
        "        for token in tokens:\n",
        "            word_count[token] += 1  # Count the occurrences of each token\n",
        "    return word_count"
      ],
      "metadata": {
        "id": "ezssTApvcS94"
      },
      "execution_count": 93,
      "outputs": []
    },
    {
      "cell_type": "markdown",
      "source": [
        "# **Word Count Analysis:**\n",
        "\n",
        "Calculate word counts for each sentiment class.\n",
        "\n",
        "*   Calculate word counts for each sentiment class.\n",
        "*   Convert word counts to DataFrames.\n",
        "*   Display top words and their counts for each sentiment class."
      ],
      "metadata": {
        "id": "UQ0a2f6DlYQt"
      }
    },
    {
      "cell_type": "code",
      "source": [
        "# Calculate word counts for tweets with different sentiments\n",
        "word_count_positive = calculate_word_counts(df[df['sentiment'] == 'positive']['text'])\n",
        "word_count_negative = calculate_word_counts(df[df['sentiment'] == 'negative']['text'])\n",
        "word_count_neutral = calculate_word_counts(df[df['sentiment'] == 'neutral']['text'])\n"
      ],
      "metadata": {
        "id": "dXFT_Oi1cMW5"
      },
      "execution_count": 94,
      "outputs": []
    },
    {
      "cell_type": "code",
      "source": [
        "# Convert word counts to DataFrames for better visualization\n",
        "word_count_positive_df = pd.DataFrame(word_count_positive.items(), columns=['Word', 'Count'])\n",
        "word_count_negative_df = pd.DataFrame(word_count_negative.items(), columns=['Word', 'Count'])\n",
        "word_count_neutral_df = pd.DataFrame(word_count_neutral.items(), columns=['Word', 'Count'])\n"
      ],
      "metadata": {
        "id": "My3L8AnzdlNt"
      },
      "execution_count": 95,
      "outputs": []
    },
    {
      "cell_type": "code",
      "source": [
        "# Display the top words and their counts for each sentiment class\n",
        "print(\"Word Counts - Positive Sentiment:\")\n",
        "print(word_count_positive_df.head())\n",
        "\n",
        "print(\"\\nWord Counts - Negative Sentiment:\")\n",
        "print(word_count_negative_df.head())\n",
        "\n",
        "print(\"\\nWord Counts - Neutral Sentiment:\")\n",
        "print(word_count_neutral_df.head())"
      ],
      "metadata": {
        "colab": {
          "base_uri": "https://localhost:8080/"
        },
        "id": "tEPVfCcahNG9",
        "outputId": "7b10e58b-7934-46b6-e667-5d51f9bb9437"
      },
      "execution_count": 96,
      "outputs": [
        {
          "output_type": "stream",
          "name": "stdout",
          "text": [
            "Word Counts - Positive Sentiment:\n",
            "    Word  Count\n",
            "0    2am      2\n",
            "1   feed      9\n",
            "2   babi     65\n",
            "3    fun    344\n",
            "4  smile     45\n",
            "\n",
            "Word Counts - Negative Sentiment:\n",
            "    Word  Count\n",
            "0   sooo     38\n",
            "1    sad    398\n",
            "2   miss    660\n",
            "3    san      9\n",
            "4  diego      6\n",
            "\n",
            "Word Counts - Neutral Sentiment:\n",
            "                       Word  Count\n",
            "0                        id     72\n",
            "1                   respond     11\n",
            "2                        go   1055\n",
            "3  httpwwwdothebouncycomsmf      1\n",
            "4                 shameless      1\n"
          ]
        }
      ]
    },
    {
      "cell_type": "markdown",
      "source": [
        "# **Top Words Visualization:**\n",
        "\n",
        "Display top words for positive sentiment with a styled DataFrame.\n",
        "\n",
        "*   **Display top words for positive sentiment with a styled DataFrame.**\n",
        "*   **Visualize top positive words using a treemap.**\n",
        "*   **Repeat the above steps for negative and neutral sentiments.**"
      ],
      "metadata": {
        "id": "10fsLMvvlsn0"
      }
    },
    {
      "cell_type": "code",
      "source": [
        "# Sort and select the top 20 words for each sentiment class\n",
        "top_positive_words = word_count_positive_df.sort_values(by='Count', ascending=False).head(20)\n",
        "top_negative_words = word_count_negative_df.sort_values(by='Count', ascending=False).head(20)\n",
        "top_neutral_words = word_count_neutral_df.sort_values(by='Count', ascending=False).head(20)"
      ],
      "metadata": {
        "id": "sIOZFHDXZluO"
      },
      "execution_count": 97,
      "outputs": []
    },
    {
      "cell_type": "code",
      "source": [
        "# Display the top words for each sentiment class - Positive\n",
        "print(\"Top 20 Words - Positive Sentiment:\")\n",
        "print()\n",
        "# Apply background gradient styling and display the DataFrame\n",
        "styled_positive_words = top_positive_words.style.background_gradient(cmap='Blues')\n",
        "styled_positive_words\n"
      ],
      "metadata": {
        "colab": {
          "base_uri": "https://localhost:8080/",
          "height": 713
        },
        "id": "e13Fz0dnfYaU",
        "outputId": "35b8f99f-e2d7-4c3e-b3dc-301229512bc1"
      },
      "execution_count": 98,
      "outputs": [
        {
          "output_type": "stream",
          "name": "stdout",
          "text": [
            "Top 20 Words - Positive Sentiment:\n",
            "\n"
          ]
        },
        {
          "output_type": "execute_result",
          "data": {
            "text/plain": [
              "<pandas.io.formats.style.Styler at 0x7b6cb29ac730>"
            ],
            "text/html": [
              "<style type=\"text/css\">\n",
              "#T_68a35_row0_col1 {\n",
              "  background-color: #08306b;\n",
              "  color: #f1f1f1;\n",
              "}\n",
              "#T_68a35_row1_col1 {\n",
              "  background-color: #1561a9;\n",
              "  color: #f1f1f1;\n",
              "}\n",
              "#T_68a35_row2_col1 {\n",
              "  background-color: #2676b8;\n",
              "  color: #f1f1f1;\n",
              "}\n",
              "#T_68a35_row3_col1 {\n",
              "  background-color: #63a8d3;\n",
              "  color: #f1f1f1;\n",
              "}\n",
              "#T_68a35_row4_col1 {\n",
              "  background-color: #71b1d7;\n",
              "  color: #f1f1f1;\n",
              "}\n",
              "#T_68a35_row5_col1 {\n",
              "  background-color: #8dc1dd;\n",
              "  color: #000000;\n",
              "}\n",
              "#T_68a35_row6_col1 {\n",
              "  background-color: #a9cfe5;\n",
              "  color: #000000;\n",
              "}\n",
              "#T_68a35_row7_col1 {\n",
              "  background-color: #c7dcef;\n",
              "  color: #000000;\n",
              "}\n",
              "#T_68a35_row8_col1 {\n",
              "  background-color: #d2e3f3;\n",
              "  color: #000000;\n",
              "}\n",
              "#T_68a35_row9_col1, #T_68a35_row10_col1 {\n",
              "  background-color: #d9e7f5;\n",
              "  color: #000000;\n",
              "}\n",
              "#T_68a35_row11_col1 {\n",
              "  background-color: #dae8f6;\n",
              "  color: #000000;\n",
              "}\n",
              "#T_68a35_row12_col1, #T_68a35_row13_col1 {\n",
              "  background-color: #f4f9fe;\n",
              "  color: #000000;\n",
              "}\n",
              "#T_68a35_row14_col1, #T_68a35_row15_col1 {\n",
              "  background-color: #f5f9fe;\n",
              "  color: #000000;\n",
              "}\n",
              "#T_68a35_row16_col1, #T_68a35_row17_col1, #T_68a35_row18_col1 {\n",
              "  background-color: #f5fafe;\n",
              "  color: #000000;\n",
              "}\n",
              "#T_68a35_row19_col1 {\n",
              "  background-color: #f7fbff;\n",
              "  color: #000000;\n",
              "}\n",
              "</style>\n",
              "<table id=\"T_68a35\" class=\"dataframe\">\n",
              "  <thead>\n",
              "    <tr>\n",
              "      <th class=\"blank level0\" >&nbsp;</th>\n",
              "      <th id=\"T_68a35_level0_col0\" class=\"col_heading level0 col0\" >Word</th>\n",
              "      <th id=\"T_68a35_level0_col1\" class=\"col_heading level0 col1\" >Count</th>\n",
              "    </tr>\n",
              "  </thead>\n",
              "  <tbody>\n",
              "    <tr>\n",
              "      <th id=\"T_68a35_level0_row0\" class=\"row_heading level0 row0\" >74</th>\n",
              "      <td id=\"T_68a35_row0_col0\" class=\"data row0 col0\" >day</td>\n",
              "      <td id=\"T_68a35_row0_col1\" class=\"data row0 col1\" >1326</td>\n",
              "    </tr>\n",
              "    <tr>\n",
              "      <th id=\"T_68a35_level0_row1\" class=\"row_heading level0 row1\" >16</th>\n",
              "      <td id=\"T_68a35_row1_col0\" class=\"data row1 col0\" >love</td>\n",
              "      <td id=\"T_68a35_row1_col1\" class=\"data row1 col1\" >1139</td>\n",
              "    </tr>\n",
              "    <tr>\n",
              "      <th id=\"T_68a35_level0_row2\" class=\"row_heading level0 row2\" >103</th>\n",
              "      <td id=\"T_68a35_row2_col0\" class=\"data row2 col0\" >good</td>\n",
              "      <td id=\"T_68a35_row2_col1\" class=\"data row2 col1\" >1056</td>\n",
              "    </tr>\n",
              "    <tr>\n",
              "      <th id=\"T_68a35_level0_row3\" class=\"row_heading level0 row3\" >66</th>\n",
              "      <td id=\"T_68a35_row3_col0\" class=\"data row3 col0\" >happi</td>\n",
              "      <td id=\"T_68a35_row3_col1\" class=\"data row3 col1\" >852</td>\n",
              "    </tr>\n",
              "    <tr>\n",
              "      <th id=\"T_68a35_level0_row4\" class=\"row_heading level0 row4\" >112</th>\n",
              "      <td id=\"T_68a35_row4_col0\" class=\"data row4 col0\" >thank</td>\n",
              "      <td id=\"T_68a35_row4_col1\" class=\"data row4 col1\" >814</td>\n",
              "    </tr>\n",
              "    <tr>\n",
              "      <th id=\"T_68a35_level0_row5\" class=\"row_heading level0 row5\" >38</th>\n",
              "      <td id=\"T_68a35_row5_col0\" class=\"data row5 col0\" >im</td>\n",
              "      <td id=\"T_68a35_row5_col1\" class=\"data row5 col1\" >742</td>\n",
              "    </tr>\n",
              "    <tr>\n",
              "      <th id=\"T_68a35_level0_row6\" class=\"row_heading level0 row6\" >143</th>\n",
              "      <td id=\"T_68a35_row6_col0\" class=\"data row6 col0\" >mother</td>\n",
              "      <td id=\"T_68a35_row6_col1\" class=\"data row6 col1\" >668</td>\n",
              "    </tr>\n",
              "    <tr>\n",
              "      <th id=\"T_68a35_level0_row7\" class=\"row_heading level0 row7\" >49</th>\n",
              "      <td id=\"T_68a35_row7_col0\" class=\"data row7 col0\" >go</td>\n",
              "      <td id=\"T_68a35_row7_col1\" class=\"data row7 col1\" >573</td>\n",
              "    </tr>\n",
              "    <tr>\n",
              "      <th id=\"T_68a35_level0_row8\" class=\"row_heading level0 row8\" >55</th>\n",
              "      <td id=\"T_68a35_row8_col0\" class=\"data row8 col0\" >hope</td>\n",
              "      <td id=\"T_68a35_row8_col1\" class=\"data row8 col1\" >519</td>\n",
              "    </tr>\n",
              "    <tr>\n",
              "      <th id=\"T_68a35_level0_row9\" class=\"row_heading level0 row9\" >426</th>\n",
              "      <td id=\"T_68a35_row9_col0\" class=\"data row9 col0\" >great</td>\n",
              "      <td id=\"T_68a35_row9_col1\" class=\"data row9 col1\" >481</td>\n",
              "    </tr>\n",
              "    <tr>\n",
              "      <th id=\"T_68a35_level0_row10\" class=\"row_heading level0 row10\" >14</th>\n",
              "      <td id=\"T_68a35_row10_col0\" class=\"data row10 col0\" >like</td>\n",
              "      <td id=\"T_68a35_row10_col1\" class=\"data row10 col1\" >481</td>\n",
              "    </tr>\n",
              "    <tr>\n",
              "      <th id=\"T_68a35_level0_row11\" class=\"row_heading level0 row11\" >451</th>\n",
              "      <td id=\"T_68a35_row11_col0\" class=\"data row11 col0\" >get</td>\n",
              "      <td id=\"T_68a35_row11_col1\" class=\"data row11 col1\" >476</td>\n",
              "    </tr>\n",
              "    <tr>\n",
              "      <th id=\"T_68a35_level0_row12\" class=\"row_heading level0 row12\" >223</th>\n",
              "      <td id=\"T_68a35_row12_col0\" class=\"data row12 col0\" >today</td>\n",
              "      <td id=\"T_68a35_row12_col1\" class=\"data row12 col1\" >346</td>\n",
              "    </tr>\n",
              "    <tr>\n",
              "      <th id=\"T_68a35_level0_row13\" class=\"row_heading level0 row13\" >176</th>\n",
              "      <td id=\"T_68a35_row13_col0\" class=\"data row13 col0\" >got</td>\n",
              "      <td id=\"T_68a35_row13_col1\" class=\"data row13 col1\" >345</td>\n",
              "    </tr>\n",
              "    <tr>\n",
              "      <th id=\"T_68a35_level0_row14\" class=\"row_heading level0 row14\" >3</th>\n",
              "      <td id=\"T_68a35_row14_col0\" class=\"data row14 col0\" >fun</td>\n",
              "      <td id=\"T_68a35_row14_col1\" class=\"data row14 col1\" >344</td>\n",
              "    </tr>\n",
              "    <tr>\n",
              "      <th id=\"T_68a35_level0_row15\" class=\"row_heading level0 row15\" >102</th>\n",
              "      <td id=\"T_68a35_row15_col0\" class=\"data row15 col0\" >work</td>\n",
              "      <td id=\"T_68a35_row15_col1\" class=\"data row15 col1\" >343</td>\n",
              "    </tr>\n",
              "    <tr>\n",
              "      <th id=\"T_68a35_level0_row16\" class=\"row_heading level0 row16\" >71</th>\n",
              "      <td id=\"T_68a35_row16_col0\" class=\"data row16 col0\" >time</td>\n",
              "      <td id=\"T_68a35_row16_col1\" class=\"data row16 col1\" >339</td>\n",
              "    </tr>\n",
              "    <tr>\n",
              "      <th id=\"T_68a35_level0_row17\" class=\"row_heading level0 row17\" >111</th>\n",
              "      <td id=\"T_68a35_row17_col0\" class=\"data row17 col0\" >lol</td>\n",
              "      <td id=\"T_68a35_row17_col1\" class=\"data row17 col1\" >339</td>\n",
              "    </tr>\n",
              "    <tr>\n",
              "      <th id=\"T_68a35_level0_row18\" class=\"row_heading level0 row18\" >95</th>\n",
              "      <td id=\"T_68a35_row18_col0\" class=\"data row18 col0\" >nice</td>\n",
              "      <td id=\"T_68a35_row18_col1\" class=\"data row18 col1\" >338</td>\n",
              "    </tr>\n",
              "    <tr>\n",
              "      <th id=\"T_68a35_level0_row19\" class=\"row_heading level0 row19\" >272</th>\n",
              "      <td id=\"T_68a35_row19_col0\" class=\"data row19 col0\" >night</td>\n",
              "      <td id=\"T_68a35_row19_col1\" class=\"data row19 col1\" >329</td>\n",
              "    </tr>\n",
              "  </tbody>\n",
              "</table>\n"
            ]
          },
          "metadata": {},
          "execution_count": 98
        }
      ]
    },
    {
      "cell_type": "code",
      "source": [
        "# Create a treemap using Plotly Express to visualize top positive words\n",
        "fig = px.treemap(top_positive_words, path=['Word'], values='Count', title='Tree Of Unique Positive Words')\n",
        "fig.show()"
      ],
      "metadata": {
        "colab": {
          "base_uri": "https://localhost:8080/",
          "height": 542
        },
        "id": "N1qOsdCGfi3z",
        "outputId": "c602f2f1-d732-43f9-8f96-e6a1c21c6f42"
      },
      "execution_count": 99,
      "outputs": [
        {
          "output_type": "display_data",
          "data": {
            "text/html": [
              "<html>\n",
              "<head><meta charset=\"utf-8\" /></head>\n",
              "<body>\n",
              "    <div>            <script src=\"https://cdnjs.cloudflare.com/ajax/libs/mathjax/2.7.5/MathJax.js?config=TeX-AMS-MML_SVG\"></script><script type=\"text/javascript\">if (window.MathJax && window.MathJax.Hub && window.MathJax.Hub.Config) {window.MathJax.Hub.Config({SVG: {font: \"STIX-Web\"}});}</script>                <script type=\"text/javascript\">window.PlotlyConfig = {MathJaxConfig: 'local'};</script>\n",
              "        <script src=\"https://cdn.plot.ly/plotly-2.18.2.min.js\"></script>                <div id=\"e54a1609-2bfe-4447-abfc-b5ab2e495f6a\" class=\"plotly-graph-div\" style=\"height:525px; width:100%;\"></div>            <script type=\"text/javascript\">                                    window.PLOTLYENV=window.PLOTLYENV || {};                                    if (document.getElementById(\"e54a1609-2bfe-4447-abfc-b5ab2e495f6a\")) {                    Plotly.newPlot(                        \"e54a1609-2bfe-4447-abfc-b5ab2e495f6a\",                        [{\"branchvalues\":\"total\",\"domain\":{\"x\":[0.0,1.0],\"y\":[0.0,1.0]},\"hovertemplate\":\"labels=%{label}<br>Count=%{value}<br>parent=%{parent}<br>id=%{id}<extra></extra>\",\"ids\":[\"day\",\"fun\",\"get\",\"go\",\"good\",\"got\",\"great\",\"happi\",\"hope\",\"im\",\"like\",\"lol\",\"love\",\"mother\",\"nice\",\"night\",\"thank\",\"time\",\"today\",\"work\"],\"labels\":[\"day\",\"fun\",\"get\",\"go\",\"good\",\"got\",\"great\",\"happi\",\"hope\",\"im\",\"like\",\"lol\",\"love\",\"mother\",\"nice\",\"night\",\"thank\",\"time\",\"today\",\"work\"],\"name\":\"\",\"parents\":[\"\",\"\",\"\",\"\",\"\",\"\",\"\",\"\",\"\",\"\",\"\",\"\",\"\",\"\",\"\",\"\",\"\",\"\",\"\",\"\"],\"values\":[1326,344,476,573,1056,345,481,852,519,742,481,339,1139,668,338,329,814,339,346,343],\"type\":\"treemap\"}],                        {\"template\":{\"data\":{\"histogram2dcontour\":[{\"type\":\"histogram2dcontour\",\"colorbar\":{\"outlinewidth\":0,\"ticks\":\"\"},\"colorscale\":[[0.0,\"#0d0887\"],[0.1111111111111111,\"#46039f\"],[0.2222222222222222,\"#7201a8\"],[0.3333333333333333,\"#9c179e\"],[0.4444444444444444,\"#bd3786\"],[0.5555555555555556,\"#d8576b\"],[0.6666666666666666,\"#ed7953\"],[0.7777777777777778,\"#fb9f3a\"],[0.8888888888888888,\"#fdca26\"],[1.0,\"#f0f921\"]]}],\"choropleth\":[{\"type\":\"choropleth\",\"colorbar\":{\"outlinewidth\":0,\"ticks\":\"\"}}],\"histogram2d\":[{\"type\":\"histogram2d\",\"colorbar\":{\"outlinewidth\":0,\"ticks\":\"\"},\"colorscale\":[[0.0,\"#0d0887\"],[0.1111111111111111,\"#46039f\"],[0.2222222222222222,\"#7201a8\"],[0.3333333333333333,\"#9c179e\"],[0.4444444444444444,\"#bd3786\"],[0.5555555555555556,\"#d8576b\"],[0.6666666666666666,\"#ed7953\"],[0.7777777777777778,\"#fb9f3a\"],[0.8888888888888888,\"#fdca26\"],[1.0,\"#f0f921\"]]}],\"heatmap\":[{\"type\":\"heatmap\",\"colorbar\":{\"outlinewidth\":0,\"ticks\":\"\"},\"colorscale\":[[0.0,\"#0d0887\"],[0.1111111111111111,\"#46039f\"],[0.2222222222222222,\"#7201a8\"],[0.3333333333333333,\"#9c179e\"],[0.4444444444444444,\"#bd3786\"],[0.5555555555555556,\"#d8576b\"],[0.6666666666666666,\"#ed7953\"],[0.7777777777777778,\"#fb9f3a\"],[0.8888888888888888,\"#fdca26\"],[1.0,\"#f0f921\"]]}],\"heatmapgl\":[{\"type\":\"heatmapgl\",\"colorbar\":{\"outlinewidth\":0,\"ticks\":\"\"},\"colorscale\":[[0.0,\"#0d0887\"],[0.1111111111111111,\"#46039f\"],[0.2222222222222222,\"#7201a8\"],[0.3333333333333333,\"#9c179e\"],[0.4444444444444444,\"#bd3786\"],[0.5555555555555556,\"#d8576b\"],[0.6666666666666666,\"#ed7953\"],[0.7777777777777778,\"#fb9f3a\"],[0.8888888888888888,\"#fdca26\"],[1.0,\"#f0f921\"]]}],\"contourcarpet\":[{\"type\":\"contourcarpet\",\"colorbar\":{\"outlinewidth\":0,\"ticks\":\"\"}}],\"contour\":[{\"type\":\"contour\",\"colorbar\":{\"outlinewidth\":0,\"ticks\":\"\"},\"colorscale\":[[0.0,\"#0d0887\"],[0.1111111111111111,\"#46039f\"],[0.2222222222222222,\"#7201a8\"],[0.3333333333333333,\"#9c179e\"],[0.4444444444444444,\"#bd3786\"],[0.5555555555555556,\"#d8576b\"],[0.6666666666666666,\"#ed7953\"],[0.7777777777777778,\"#fb9f3a\"],[0.8888888888888888,\"#fdca26\"],[1.0,\"#f0f921\"]]}],\"surface\":[{\"type\":\"surface\",\"colorbar\":{\"outlinewidth\":0,\"ticks\":\"\"},\"colorscale\":[[0.0,\"#0d0887\"],[0.1111111111111111,\"#46039f\"],[0.2222222222222222,\"#7201a8\"],[0.3333333333333333,\"#9c179e\"],[0.4444444444444444,\"#bd3786\"],[0.5555555555555556,\"#d8576b\"],[0.6666666666666666,\"#ed7953\"],[0.7777777777777778,\"#fb9f3a\"],[0.8888888888888888,\"#fdca26\"],[1.0,\"#f0f921\"]]}],\"mesh3d\":[{\"type\":\"mesh3d\",\"colorbar\":{\"outlinewidth\":0,\"ticks\":\"\"}}],\"scatter\":[{\"fillpattern\":{\"fillmode\":\"overlay\",\"size\":10,\"solidity\":0.2},\"type\":\"scatter\"}],\"parcoords\":[{\"type\":\"parcoords\",\"line\":{\"colorbar\":{\"outlinewidth\":0,\"ticks\":\"\"}}}],\"scatterpolargl\":[{\"type\":\"scatterpolargl\",\"marker\":{\"colorbar\":{\"outlinewidth\":0,\"ticks\":\"\"}}}],\"bar\":[{\"error_x\":{\"color\":\"#2a3f5f\"},\"error_y\":{\"color\":\"#2a3f5f\"},\"marker\":{\"line\":{\"color\":\"#E5ECF6\",\"width\":0.5},\"pattern\":{\"fillmode\":\"overlay\",\"size\":10,\"solidity\":0.2}},\"type\":\"bar\"}],\"scattergeo\":[{\"type\":\"scattergeo\",\"marker\":{\"colorbar\":{\"outlinewidth\":0,\"ticks\":\"\"}}}],\"scatterpolar\":[{\"type\":\"scatterpolar\",\"marker\":{\"colorbar\":{\"outlinewidth\":0,\"ticks\":\"\"}}}],\"histogram\":[{\"marker\":{\"pattern\":{\"fillmode\":\"overlay\",\"size\":10,\"solidity\":0.2}},\"type\":\"histogram\"}],\"scattergl\":[{\"type\":\"scattergl\",\"marker\":{\"colorbar\":{\"outlinewidth\":0,\"ticks\":\"\"}}}],\"scatter3d\":[{\"type\":\"scatter3d\",\"line\":{\"colorbar\":{\"outlinewidth\":0,\"ticks\":\"\"}},\"marker\":{\"colorbar\":{\"outlinewidth\":0,\"ticks\":\"\"}}}],\"scattermapbox\":[{\"type\":\"scattermapbox\",\"marker\":{\"colorbar\":{\"outlinewidth\":0,\"ticks\":\"\"}}}],\"scatterternary\":[{\"type\":\"scatterternary\",\"marker\":{\"colorbar\":{\"outlinewidth\":0,\"ticks\":\"\"}}}],\"scattercarpet\":[{\"type\":\"scattercarpet\",\"marker\":{\"colorbar\":{\"outlinewidth\":0,\"ticks\":\"\"}}}],\"carpet\":[{\"aaxis\":{\"endlinecolor\":\"#2a3f5f\",\"gridcolor\":\"white\",\"linecolor\":\"white\",\"minorgridcolor\":\"white\",\"startlinecolor\":\"#2a3f5f\"},\"baxis\":{\"endlinecolor\":\"#2a3f5f\",\"gridcolor\":\"white\",\"linecolor\":\"white\",\"minorgridcolor\":\"white\",\"startlinecolor\":\"#2a3f5f\"},\"type\":\"carpet\"}],\"table\":[{\"cells\":{\"fill\":{\"color\":\"#EBF0F8\"},\"line\":{\"color\":\"white\"}},\"header\":{\"fill\":{\"color\":\"#C8D4E3\"},\"line\":{\"color\":\"white\"}},\"type\":\"table\"}],\"barpolar\":[{\"marker\":{\"line\":{\"color\":\"#E5ECF6\",\"width\":0.5},\"pattern\":{\"fillmode\":\"overlay\",\"size\":10,\"solidity\":0.2}},\"type\":\"barpolar\"}],\"pie\":[{\"automargin\":true,\"type\":\"pie\"}]},\"layout\":{\"autotypenumbers\":\"strict\",\"colorway\":[\"#636efa\",\"#EF553B\",\"#00cc96\",\"#ab63fa\",\"#FFA15A\",\"#19d3f3\",\"#FF6692\",\"#B6E880\",\"#FF97FF\",\"#FECB52\"],\"font\":{\"color\":\"#2a3f5f\"},\"hovermode\":\"closest\",\"hoverlabel\":{\"align\":\"left\"},\"paper_bgcolor\":\"white\",\"plot_bgcolor\":\"#E5ECF6\",\"polar\":{\"bgcolor\":\"#E5ECF6\",\"angularaxis\":{\"gridcolor\":\"white\",\"linecolor\":\"white\",\"ticks\":\"\"},\"radialaxis\":{\"gridcolor\":\"white\",\"linecolor\":\"white\",\"ticks\":\"\"}},\"ternary\":{\"bgcolor\":\"#E5ECF6\",\"aaxis\":{\"gridcolor\":\"white\",\"linecolor\":\"white\",\"ticks\":\"\"},\"baxis\":{\"gridcolor\":\"white\",\"linecolor\":\"white\",\"ticks\":\"\"},\"caxis\":{\"gridcolor\":\"white\",\"linecolor\":\"white\",\"ticks\":\"\"}},\"coloraxis\":{\"colorbar\":{\"outlinewidth\":0,\"ticks\":\"\"}},\"colorscale\":{\"sequential\":[[0.0,\"#0d0887\"],[0.1111111111111111,\"#46039f\"],[0.2222222222222222,\"#7201a8\"],[0.3333333333333333,\"#9c179e\"],[0.4444444444444444,\"#bd3786\"],[0.5555555555555556,\"#d8576b\"],[0.6666666666666666,\"#ed7953\"],[0.7777777777777778,\"#fb9f3a\"],[0.8888888888888888,\"#fdca26\"],[1.0,\"#f0f921\"]],\"sequentialminus\":[[0.0,\"#0d0887\"],[0.1111111111111111,\"#46039f\"],[0.2222222222222222,\"#7201a8\"],[0.3333333333333333,\"#9c179e\"],[0.4444444444444444,\"#bd3786\"],[0.5555555555555556,\"#d8576b\"],[0.6666666666666666,\"#ed7953\"],[0.7777777777777778,\"#fb9f3a\"],[0.8888888888888888,\"#fdca26\"],[1.0,\"#f0f921\"]],\"diverging\":[[0,\"#8e0152\"],[0.1,\"#c51b7d\"],[0.2,\"#de77ae\"],[0.3,\"#f1b6da\"],[0.4,\"#fde0ef\"],[0.5,\"#f7f7f7\"],[0.6,\"#e6f5d0\"],[0.7,\"#b8e186\"],[0.8,\"#7fbc41\"],[0.9,\"#4d9221\"],[1,\"#276419\"]]},\"xaxis\":{\"gridcolor\":\"white\",\"linecolor\":\"white\",\"ticks\":\"\",\"title\":{\"standoff\":15},\"zerolinecolor\":\"white\",\"automargin\":true,\"zerolinewidth\":2},\"yaxis\":{\"gridcolor\":\"white\",\"linecolor\":\"white\",\"ticks\":\"\",\"title\":{\"standoff\":15},\"zerolinecolor\":\"white\",\"automargin\":true,\"zerolinewidth\":2},\"scene\":{\"xaxis\":{\"backgroundcolor\":\"#E5ECF6\",\"gridcolor\":\"white\",\"linecolor\":\"white\",\"showbackground\":true,\"ticks\":\"\",\"zerolinecolor\":\"white\",\"gridwidth\":2},\"yaxis\":{\"backgroundcolor\":\"#E5ECF6\",\"gridcolor\":\"white\",\"linecolor\":\"white\",\"showbackground\":true,\"ticks\":\"\",\"zerolinecolor\":\"white\",\"gridwidth\":2},\"zaxis\":{\"backgroundcolor\":\"#E5ECF6\",\"gridcolor\":\"white\",\"linecolor\":\"white\",\"showbackground\":true,\"ticks\":\"\",\"zerolinecolor\":\"white\",\"gridwidth\":2}},\"shapedefaults\":{\"line\":{\"color\":\"#2a3f5f\"}},\"annotationdefaults\":{\"arrowcolor\":\"#2a3f5f\",\"arrowhead\":0,\"arrowwidth\":1},\"geo\":{\"bgcolor\":\"white\",\"landcolor\":\"#E5ECF6\",\"subunitcolor\":\"white\",\"showland\":true,\"showlakes\":true,\"lakecolor\":\"white\"},\"title\":{\"x\":0.05},\"mapbox\":{\"style\":\"light\"}}},\"legend\":{\"tracegroupgap\":0},\"title\":{\"text\":\"Tree Of Unique Positive Words\"}},                        {\"responsive\": true}                    ).then(function(){\n",
              "                            \n",
              "var gd = document.getElementById('e54a1609-2bfe-4447-abfc-b5ab2e495f6a');\n",
              "var x = new MutationObserver(function (mutations, observer) {{\n",
              "        var display = window.getComputedStyle(gd).display;\n",
              "        if (!display || display === 'none') {{\n",
              "            console.log([gd, 'removed!']);\n",
              "            Plotly.purge(gd);\n",
              "            observer.disconnect();\n",
              "        }}\n",
              "}});\n",
              "\n",
              "// Listen for the removal of the full notebook cells\n",
              "var notebookContainer = gd.closest('#notebook-container');\n",
              "if (notebookContainer) {{\n",
              "    x.observe(notebookContainer, {childList: true});\n",
              "}}\n",
              "\n",
              "// Listen for the clearing of the current output cell\n",
              "var outputEl = gd.closest('.output');\n",
              "if (outputEl) {{\n",
              "    x.observe(outputEl, {childList: true});\n",
              "}}\n",
              "\n",
              "                        })                };                            </script>        </div>\n",
              "</body>\n",
              "</html>"
            ]
          },
          "metadata": {}
        }
      ]
    },
    {
      "cell_type": "code",
      "source": [
        "# Display the top words for each sentiment class - Negative\n",
        "print(\"\\nTop 20 Words - Negative Sentiment:\")\n",
        "print()\n",
        "# Apply background gradient styling and display the DataFrame\n",
        "styled_negative_words = top_negative_words.style.background_gradient(cmap='Purples')\n",
        "styled_negative_words\n",
        "\n"
      ],
      "metadata": {
        "colab": {
          "base_uri": "https://localhost:8080/",
          "height": 732
        },
        "id": "Bv9hjmPUeogY",
        "outputId": "2dc69d64-5f4a-47e4-f4a7-d5b2fec44de6"
      },
      "execution_count": 100,
      "outputs": [
        {
          "output_type": "stream",
          "name": "stdout",
          "text": [
            "\n",
            "Top 20 Words - Negative Sentiment:\n",
            "\n"
          ]
        },
        {
          "output_type": "execute_result",
          "data": {
            "text/plain": [
              "<pandas.io.formats.style.Styler at 0x7b6cb29af850>"
            ],
            "text/html": [
              "<style type=\"text/css\">\n",
              "#T_815d2_row0_col1 {\n",
              "  background-color: #3f007d;\n",
              "  color: #f1f1f1;\n",
              "}\n",
              "#T_815d2_row1_col1 {\n",
              "  background-color: #a3a0cb;\n",
              "  color: #f1f1f1;\n",
              "}\n",
              "#T_815d2_row2_col1 {\n",
              "  background-color: #b6b6d8;\n",
              "  color: #000000;\n",
              "}\n",
              "#T_815d2_row3_col1 {\n",
              "  background-color: #c2c3df;\n",
              "  color: #000000;\n",
              "}\n",
              "#T_815d2_row4_col1 {\n",
              "  background-color: #dedeed;\n",
              "  color: #000000;\n",
              "}\n",
              "#T_815d2_row5_col1 {\n",
              "  background-color: #dfdfed;\n",
              "  color: #000000;\n",
              "}\n",
              "#T_815d2_row6_col1, #T_815d2_row7_col1 {\n",
              "  background-color: #e3e2ef;\n",
              "  color: #000000;\n",
              "}\n",
              "#T_815d2_row8_col1 {\n",
              "  background-color: #e4e3f0;\n",
              "  color: #000000;\n",
              "}\n",
              "#T_815d2_row9_col1 {\n",
              "  background-color: #eeecf5;\n",
              "  color: #000000;\n",
              "}\n",
              "#T_815d2_row10_col1 {\n",
              "  background-color: #efedf5;\n",
              "  color: #000000;\n",
              "}\n",
              "#T_815d2_row11_col1 {\n",
              "  background-color: #f4f3f8;\n",
              "  color: #000000;\n",
              "}\n",
              "#T_815d2_row12_col1 {\n",
              "  background-color: #f5f4f9;\n",
              "  color: #000000;\n",
              "}\n",
              "#T_815d2_row13_col1 {\n",
              "  background-color: #f6f4f9;\n",
              "  color: #000000;\n",
              "}\n",
              "#T_815d2_row14_col1, #T_815d2_row15_col1 {\n",
              "  background-color: #f8f6fa;\n",
              "  color: #000000;\n",
              "}\n",
              "#T_815d2_row16_col1 {\n",
              "  background-color: #f9f8fb;\n",
              "  color: #000000;\n",
              "}\n",
              "#T_815d2_row17_col1, #T_815d2_row18_col1 {\n",
              "  background-color: #faf9fc;\n",
              "  color: #000000;\n",
              "}\n",
              "#T_815d2_row19_col1 {\n",
              "  background-color: #fcfbfd;\n",
              "  color: #000000;\n",
              "}\n",
              "</style>\n",
              "<table id=\"T_815d2\" class=\"dataframe\">\n",
              "  <thead>\n",
              "    <tr>\n",
              "      <th class=\"blank level0\" >&nbsp;</th>\n",
              "      <th id=\"T_815d2_level0_col0\" class=\"col_heading level0 col0\" >Word</th>\n",
              "      <th id=\"T_815d2_level0_col1\" class=\"col_heading level0 col1\" >Count</th>\n",
              "    </tr>\n",
              "  </thead>\n",
              "  <tbody>\n",
              "    <tr>\n",
              "      <th id=\"T_815d2_level0_row0\" class=\"row_heading level0 row0\" >54</th>\n",
              "      <td id=\"T_815d2_row0_col0\" class=\"data row0 col0\" >im</td>\n",
              "      <td id=\"T_815d2_row0_col1\" class=\"data row0 col1\" >1227</td>\n",
              "    </tr>\n",
              "    <tr>\n",
              "      <th id=\"T_815d2_level0_row1\" class=\"row_heading level0 row1\" >22</th>\n",
              "      <td id=\"T_815d2_row1_col0\" class=\"data row1 col0\" >go</td>\n",
              "      <td id=\"T_815d2_row1_col1\" class=\"data row1 col1\" >735</td>\n",
              "    </tr>\n",
              "    <tr>\n",
              "      <th id=\"T_815d2_level0_row2\" class=\"row_heading level0 row2\" >2</th>\n",
              "      <td id=\"T_815d2_row2_col0\" class=\"data row2 col0\" >miss</td>\n",
              "      <td id=\"T_815d2_row2_col1\" class=\"data row2 col1\" >660</td>\n",
              "    </tr>\n",
              "    <tr>\n",
              "      <th id=\"T_815d2_level0_row3\" class=\"row_heading level0 row3\" >155</th>\n",
              "      <td id=\"T_815d2_row3_col0\" class=\"data row3 col0\" >get</td>\n",
              "      <td id=\"T_815d2_row3_col1\" class=\"data row3 col1\" >613</td>\n",
              "    </tr>\n",
              "    <tr>\n",
              "      <th id=\"T_815d2_level0_row4\" class=\"row_heading level0 row4\" >66</th>\n",
              "      <td id=\"T_815d2_row4_col0\" class=\"data row4 col0\" >work</td>\n",
              "      <td id=\"T_815d2_row4_col1\" class=\"data row4 col1\" >493</td>\n",
              "    </tr>\n",
              "    <tr>\n",
              "      <th id=\"T_815d2_level0_row5\" class=\"row_heading level0 row5\" >102</th>\n",
              "      <td id=\"T_815d2_row5_col0\" class=\"data row5 col0\" >like</td>\n",
              "      <td id=\"T_815d2_row5_col1\" class=\"data row5 col1\" >492</td>\n",
              "    </tr>\n",
              "    <tr>\n",
              "      <th id=\"T_815d2_level0_row6\" class=\"row_heading level0 row6\" >106</th>\n",
              "      <td id=\"T_815d2_row6_col0\" class=\"data row6 col0\" >dont</td>\n",
              "      <td id=\"T_815d2_row6_col1\" class=\"data row6 col1\" >469</td>\n",
              "    </tr>\n",
              "    <tr>\n",
              "      <th id=\"T_815d2_level0_row7\" class=\"row_heading level0 row7\" >199</th>\n",
              "      <td id=\"T_815d2_row7_col0\" class=\"data row7 col0\" >feel</td>\n",
              "      <td id=\"T_815d2_row7_col1\" class=\"data row7 col1\" >467</td>\n",
              "    </tr>\n",
              "    <tr>\n",
              "      <th id=\"T_815d2_level0_row8\" class=\"row_heading level0 row8\" >299</th>\n",
              "      <td id=\"T_815d2_row8_col0\" class=\"data row8 col0\" >cant</td>\n",
              "      <td id=\"T_815d2_row8_col1\" class=\"data row8 col1\" >463</td>\n",
              "    </tr>\n",
              "    <tr>\n",
              "      <th id=\"T_815d2_level0_row9\" class=\"row_heading level0 row9\" >39</th>\n",
              "      <td id=\"T_815d2_row9_col0\" class=\"data row9 col0\" >day</td>\n",
              "      <td id=\"T_815d2_row9_col1\" class=\"data row9 col1\" >404</td>\n",
              "    </tr>\n",
              "    <tr>\n",
              "      <th id=\"T_815d2_level0_row10\" class=\"row_heading level0 row10\" >1</th>\n",
              "      <td id=\"T_815d2_row10_col0\" class=\"data row10 col0\" >sad</td>\n",
              "      <td id=\"T_815d2_row10_col1\" class=\"data row10 col1\" >398</td>\n",
              "    </tr>\n",
              "    <tr>\n",
              "      <th id=\"T_815d2_level0_row11\" class=\"row_heading level0 row11\" >68</th>\n",
              "      <td id=\"T_815d2_row11_col0\" class=\"data row11 col0\" >got</td>\n",
              "      <td id=\"T_815d2_row11_col1\" class=\"data row11 col1\" >355</td>\n",
              "    </tr>\n",
              "    <tr>\n",
              "      <th id=\"T_815d2_level0_row12\" class=\"row_heading level0 row12\" >55</th>\n",
              "      <td id=\"T_815d2_row12_col0\" class=\"data row12 col0\" >sorri</td>\n",
              "      <td id=\"T_815d2_row12_col1\" class=\"data row12 col1\" >342</td>\n",
              "    </tr>\n",
              "    <tr>\n",
              "      <th id=\"T_815d2_level0_row13\" class=\"row_heading level0 row13\" >126</th>\n",
              "      <td id=\"T_815d2_row13_col0\" class=\"data row13 col0\" >realli</td>\n",
              "      <td id=\"T_815d2_row13_col1\" class=\"data row13 col1\" >339</td>\n",
              "    </tr>\n",
              "    <tr>\n",
              "      <th id=\"T_815d2_level0_row14\" class=\"row_heading level0 row14\" >144</th>\n",
              "      <td id=\"T_815d2_row14_col0\" class=\"data row14 col0\" >today</td>\n",
              "      <td id=\"T_815d2_row14_col1\" class=\"data row14 col1\" >325</td>\n",
              "    </tr>\n",
              "    <tr>\n",
              "      <th id=\"T_815d2_level0_row15\" class=\"row_heading level0 row15\" >21</th>\n",
              "      <td id=\"T_815d2_row15_col0\" class=\"data row15 col0\" >want</td>\n",
              "      <td id=\"T_815d2_row15_col1\" class=\"data row15 col1\" >323</td>\n",
              "    </tr>\n",
              "    <tr>\n",
              "      <th id=\"T_815d2_level0_row16\" class=\"row_heading level0 row16\" >250</th>\n",
              "      <td id=\"T_815d2_row16_col0\" class=\"data row16 col0\" >hate</td>\n",
              "      <td id=\"T_815d2_row16_col1\" class=\"data row16 col1\" >311</td>\n",
              "    </tr>\n",
              "    <tr>\n",
              "      <th id=\"T_815d2_level0_row17\" class=\"row_heading level0 row17\" >53</th>\n",
              "      <td id=\"T_815d2_row17_col0\" class=\"data row17 col0\" >one</td>\n",
              "      <td id=\"T_815d2_row17_col1\" class=\"data row17 col1\" >301</td>\n",
              "    </tr>\n",
              "    <tr>\n",
              "      <th id=\"T_815d2_level0_row18\" class=\"row_heading level0 row18\" >266</th>\n",
              "      <td id=\"T_815d2_row18_col0\" class=\"data row18 col0\" >bad</td>\n",
              "      <td id=\"T_815d2_row18_col1\" class=\"data row18 col1\" >300</td>\n",
              "    </tr>\n",
              "    <tr>\n",
              "      <th id=\"T_815d2_level0_row19\" class=\"row_heading level0 row19\" >437</th>\n",
              "      <td id=\"T_815d2_row19_col0\" class=\"data row19 col0\" >think</td>\n",
              "      <td id=\"T_815d2_row19_col1\" class=\"data row19 col1\" >282</td>\n",
              "    </tr>\n",
              "  </tbody>\n",
              "</table>\n"
            ]
          },
          "metadata": {},
          "execution_count": 100
        }
      ]
    },
    {
      "cell_type": "code",
      "source": [
        "# Create a treemap using Plotly Express to visualize top negative words\n",
        "fig = px.treemap(top_negative_words, path=['Word'], values='Count', title='Tree Of Unique Negative Words')\n",
        "fig.show()\n"
      ],
      "metadata": {
        "colab": {
          "base_uri": "https://localhost:8080/",
          "height": 542
        },
        "id": "QbKPaD81flPI",
        "outputId": "fa6ca309-5374-48fa-e788-2e51067faf5d"
      },
      "execution_count": 101,
      "outputs": [
        {
          "output_type": "display_data",
          "data": {
            "text/html": [
              "<html>\n",
              "<head><meta charset=\"utf-8\" /></head>\n",
              "<body>\n",
              "    <div>            <script src=\"https://cdnjs.cloudflare.com/ajax/libs/mathjax/2.7.5/MathJax.js?config=TeX-AMS-MML_SVG\"></script><script type=\"text/javascript\">if (window.MathJax && window.MathJax.Hub && window.MathJax.Hub.Config) {window.MathJax.Hub.Config({SVG: {font: \"STIX-Web\"}});}</script>                <script type=\"text/javascript\">window.PlotlyConfig = {MathJaxConfig: 'local'};</script>\n",
              "        <script src=\"https://cdn.plot.ly/plotly-2.18.2.min.js\"></script>                <div id=\"7bca2278-d589-42ab-9533-2ab59bfbadd1\" class=\"plotly-graph-div\" style=\"height:525px; width:100%;\"></div>            <script type=\"text/javascript\">                                    window.PLOTLYENV=window.PLOTLYENV || {};                                    if (document.getElementById(\"7bca2278-d589-42ab-9533-2ab59bfbadd1\")) {                    Plotly.newPlot(                        \"7bca2278-d589-42ab-9533-2ab59bfbadd1\",                        [{\"branchvalues\":\"total\",\"domain\":{\"x\":[0.0,1.0],\"y\":[0.0,1.0]},\"hovertemplate\":\"labels=%{label}<br>Count=%{value}<br>parent=%{parent}<br>id=%{id}<extra></extra>\",\"ids\":[\"bad\",\"cant\",\"day\",\"dont\",\"feel\",\"get\",\"go\",\"got\",\"hate\",\"im\",\"like\",\"miss\",\"one\",\"realli\",\"sad\",\"sorri\",\"think\",\"today\",\"want\",\"work\"],\"labels\":[\"bad\",\"cant\",\"day\",\"dont\",\"feel\",\"get\",\"go\",\"got\",\"hate\",\"im\",\"like\",\"miss\",\"one\",\"realli\",\"sad\",\"sorri\",\"think\",\"today\",\"want\",\"work\"],\"name\":\"\",\"parents\":[\"\",\"\",\"\",\"\",\"\",\"\",\"\",\"\",\"\",\"\",\"\",\"\",\"\",\"\",\"\",\"\",\"\",\"\",\"\",\"\"],\"values\":[300,463,404,469,467,613,735,355,311,1227,492,660,301,339,398,342,282,325,323,493],\"type\":\"treemap\"}],                        {\"template\":{\"data\":{\"histogram2dcontour\":[{\"type\":\"histogram2dcontour\",\"colorbar\":{\"outlinewidth\":0,\"ticks\":\"\"},\"colorscale\":[[0.0,\"#0d0887\"],[0.1111111111111111,\"#46039f\"],[0.2222222222222222,\"#7201a8\"],[0.3333333333333333,\"#9c179e\"],[0.4444444444444444,\"#bd3786\"],[0.5555555555555556,\"#d8576b\"],[0.6666666666666666,\"#ed7953\"],[0.7777777777777778,\"#fb9f3a\"],[0.8888888888888888,\"#fdca26\"],[1.0,\"#f0f921\"]]}],\"choropleth\":[{\"type\":\"choropleth\",\"colorbar\":{\"outlinewidth\":0,\"ticks\":\"\"}}],\"histogram2d\":[{\"type\":\"histogram2d\",\"colorbar\":{\"outlinewidth\":0,\"ticks\":\"\"},\"colorscale\":[[0.0,\"#0d0887\"],[0.1111111111111111,\"#46039f\"],[0.2222222222222222,\"#7201a8\"],[0.3333333333333333,\"#9c179e\"],[0.4444444444444444,\"#bd3786\"],[0.5555555555555556,\"#d8576b\"],[0.6666666666666666,\"#ed7953\"],[0.7777777777777778,\"#fb9f3a\"],[0.8888888888888888,\"#fdca26\"],[1.0,\"#f0f921\"]]}],\"heatmap\":[{\"type\":\"heatmap\",\"colorbar\":{\"outlinewidth\":0,\"ticks\":\"\"},\"colorscale\":[[0.0,\"#0d0887\"],[0.1111111111111111,\"#46039f\"],[0.2222222222222222,\"#7201a8\"],[0.3333333333333333,\"#9c179e\"],[0.4444444444444444,\"#bd3786\"],[0.5555555555555556,\"#d8576b\"],[0.6666666666666666,\"#ed7953\"],[0.7777777777777778,\"#fb9f3a\"],[0.8888888888888888,\"#fdca26\"],[1.0,\"#f0f921\"]]}],\"heatmapgl\":[{\"type\":\"heatmapgl\",\"colorbar\":{\"outlinewidth\":0,\"ticks\":\"\"},\"colorscale\":[[0.0,\"#0d0887\"],[0.1111111111111111,\"#46039f\"],[0.2222222222222222,\"#7201a8\"],[0.3333333333333333,\"#9c179e\"],[0.4444444444444444,\"#bd3786\"],[0.5555555555555556,\"#d8576b\"],[0.6666666666666666,\"#ed7953\"],[0.7777777777777778,\"#fb9f3a\"],[0.8888888888888888,\"#fdca26\"],[1.0,\"#f0f921\"]]}],\"contourcarpet\":[{\"type\":\"contourcarpet\",\"colorbar\":{\"outlinewidth\":0,\"ticks\":\"\"}}],\"contour\":[{\"type\":\"contour\",\"colorbar\":{\"outlinewidth\":0,\"ticks\":\"\"},\"colorscale\":[[0.0,\"#0d0887\"],[0.1111111111111111,\"#46039f\"],[0.2222222222222222,\"#7201a8\"],[0.3333333333333333,\"#9c179e\"],[0.4444444444444444,\"#bd3786\"],[0.5555555555555556,\"#d8576b\"],[0.6666666666666666,\"#ed7953\"],[0.7777777777777778,\"#fb9f3a\"],[0.8888888888888888,\"#fdca26\"],[1.0,\"#f0f921\"]]}],\"surface\":[{\"type\":\"surface\",\"colorbar\":{\"outlinewidth\":0,\"ticks\":\"\"},\"colorscale\":[[0.0,\"#0d0887\"],[0.1111111111111111,\"#46039f\"],[0.2222222222222222,\"#7201a8\"],[0.3333333333333333,\"#9c179e\"],[0.4444444444444444,\"#bd3786\"],[0.5555555555555556,\"#d8576b\"],[0.6666666666666666,\"#ed7953\"],[0.7777777777777778,\"#fb9f3a\"],[0.8888888888888888,\"#fdca26\"],[1.0,\"#f0f921\"]]}],\"mesh3d\":[{\"type\":\"mesh3d\",\"colorbar\":{\"outlinewidth\":0,\"ticks\":\"\"}}],\"scatter\":[{\"fillpattern\":{\"fillmode\":\"overlay\",\"size\":10,\"solidity\":0.2},\"type\":\"scatter\"}],\"parcoords\":[{\"type\":\"parcoords\",\"line\":{\"colorbar\":{\"outlinewidth\":0,\"ticks\":\"\"}}}],\"scatterpolargl\":[{\"type\":\"scatterpolargl\",\"marker\":{\"colorbar\":{\"outlinewidth\":0,\"ticks\":\"\"}}}],\"bar\":[{\"error_x\":{\"color\":\"#2a3f5f\"},\"error_y\":{\"color\":\"#2a3f5f\"},\"marker\":{\"line\":{\"color\":\"#E5ECF6\",\"width\":0.5},\"pattern\":{\"fillmode\":\"overlay\",\"size\":10,\"solidity\":0.2}},\"type\":\"bar\"}],\"scattergeo\":[{\"type\":\"scattergeo\",\"marker\":{\"colorbar\":{\"outlinewidth\":0,\"ticks\":\"\"}}}],\"scatterpolar\":[{\"type\":\"scatterpolar\",\"marker\":{\"colorbar\":{\"outlinewidth\":0,\"ticks\":\"\"}}}],\"histogram\":[{\"marker\":{\"pattern\":{\"fillmode\":\"overlay\",\"size\":10,\"solidity\":0.2}},\"type\":\"histogram\"}],\"scattergl\":[{\"type\":\"scattergl\",\"marker\":{\"colorbar\":{\"outlinewidth\":0,\"ticks\":\"\"}}}],\"scatter3d\":[{\"type\":\"scatter3d\",\"line\":{\"colorbar\":{\"outlinewidth\":0,\"ticks\":\"\"}},\"marker\":{\"colorbar\":{\"outlinewidth\":0,\"ticks\":\"\"}}}],\"scattermapbox\":[{\"type\":\"scattermapbox\",\"marker\":{\"colorbar\":{\"outlinewidth\":0,\"ticks\":\"\"}}}],\"scatterternary\":[{\"type\":\"scatterternary\",\"marker\":{\"colorbar\":{\"outlinewidth\":0,\"ticks\":\"\"}}}],\"scattercarpet\":[{\"type\":\"scattercarpet\",\"marker\":{\"colorbar\":{\"outlinewidth\":0,\"ticks\":\"\"}}}],\"carpet\":[{\"aaxis\":{\"endlinecolor\":\"#2a3f5f\",\"gridcolor\":\"white\",\"linecolor\":\"white\",\"minorgridcolor\":\"white\",\"startlinecolor\":\"#2a3f5f\"},\"baxis\":{\"endlinecolor\":\"#2a3f5f\",\"gridcolor\":\"white\",\"linecolor\":\"white\",\"minorgridcolor\":\"white\",\"startlinecolor\":\"#2a3f5f\"},\"type\":\"carpet\"}],\"table\":[{\"cells\":{\"fill\":{\"color\":\"#EBF0F8\"},\"line\":{\"color\":\"white\"}},\"header\":{\"fill\":{\"color\":\"#C8D4E3\"},\"line\":{\"color\":\"white\"}},\"type\":\"table\"}],\"barpolar\":[{\"marker\":{\"line\":{\"color\":\"#E5ECF6\",\"width\":0.5},\"pattern\":{\"fillmode\":\"overlay\",\"size\":10,\"solidity\":0.2}},\"type\":\"barpolar\"}],\"pie\":[{\"automargin\":true,\"type\":\"pie\"}]},\"layout\":{\"autotypenumbers\":\"strict\",\"colorway\":[\"#636efa\",\"#EF553B\",\"#00cc96\",\"#ab63fa\",\"#FFA15A\",\"#19d3f3\",\"#FF6692\",\"#B6E880\",\"#FF97FF\",\"#FECB52\"],\"font\":{\"color\":\"#2a3f5f\"},\"hovermode\":\"closest\",\"hoverlabel\":{\"align\":\"left\"},\"paper_bgcolor\":\"white\",\"plot_bgcolor\":\"#E5ECF6\",\"polar\":{\"bgcolor\":\"#E5ECF6\",\"angularaxis\":{\"gridcolor\":\"white\",\"linecolor\":\"white\",\"ticks\":\"\"},\"radialaxis\":{\"gridcolor\":\"white\",\"linecolor\":\"white\",\"ticks\":\"\"}},\"ternary\":{\"bgcolor\":\"#E5ECF6\",\"aaxis\":{\"gridcolor\":\"white\",\"linecolor\":\"white\",\"ticks\":\"\"},\"baxis\":{\"gridcolor\":\"white\",\"linecolor\":\"white\",\"ticks\":\"\"},\"caxis\":{\"gridcolor\":\"white\",\"linecolor\":\"white\",\"ticks\":\"\"}},\"coloraxis\":{\"colorbar\":{\"outlinewidth\":0,\"ticks\":\"\"}},\"colorscale\":{\"sequential\":[[0.0,\"#0d0887\"],[0.1111111111111111,\"#46039f\"],[0.2222222222222222,\"#7201a8\"],[0.3333333333333333,\"#9c179e\"],[0.4444444444444444,\"#bd3786\"],[0.5555555555555556,\"#d8576b\"],[0.6666666666666666,\"#ed7953\"],[0.7777777777777778,\"#fb9f3a\"],[0.8888888888888888,\"#fdca26\"],[1.0,\"#f0f921\"]],\"sequentialminus\":[[0.0,\"#0d0887\"],[0.1111111111111111,\"#46039f\"],[0.2222222222222222,\"#7201a8\"],[0.3333333333333333,\"#9c179e\"],[0.4444444444444444,\"#bd3786\"],[0.5555555555555556,\"#d8576b\"],[0.6666666666666666,\"#ed7953\"],[0.7777777777777778,\"#fb9f3a\"],[0.8888888888888888,\"#fdca26\"],[1.0,\"#f0f921\"]],\"diverging\":[[0,\"#8e0152\"],[0.1,\"#c51b7d\"],[0.2,\"#de77ae\"],[0.3,\"#f1b6da\"],[0.4,\"#fde0ef\"],[0.5,\"#f7f7f7\"],[0.6,\"#e6f5d0\"],[0.7,\"#b8e186\"],[0.8,\"#7fbc41\"],[0.9,\"#4d9221\"],[1,\"#276419\"]]},\"xaxis\":{\"gridcolor\":\"white\",\"linecolor\":\"white\",\"ticks\":\"\",\"title\":{\"standoff\":15},\"zerolinecolor\":\"white\",\"automargin\":true,\"zerolinewidth\":2},\"yaxis\":{\"gridcolor\":\"white\",\"linecolor\":\"white\",\"ticks\":\"\",\"title\":{\"standoff\":15},\"zerolinecolor\":\"white\",\"automargin\":true,\"zerolinewidth\":2},\"scene\":{\"xaxis\":{\"backgroundcolor\":\"#E5ECF6\",\"gridcolor\":\"white\",\"linecolor\":\"white\",\"showbackground\":true,\"ticks\":\"\",\"zerolinecolor\":\"white\",\"gridwidth\":2},\"yaxis\":{\"backgroundcolor\":\"#E5ECF6\",\"gridcolor\":\"white\",\"linecolor\":\"white\",\"showbackground\":true,\"ticks\":\"\",\"zerolinecolor\":\"white\",\"gridwidth\":2},\"zaxis\":{\"backgroundcolor\":\"#E5ECF6\",\"gridcolor\":\"white\",\"linecolor\":\"white\",\"showbackground\":true,\"ticks\":\"\",\"zerolinecolor\":\"white\",\"gridwidth\":2}},\"shapedefaults\":{\"line\":{\"color\":\"#2a3f5f\"}},\"annotationdefaults\":{\"arrowcolor\":\"#2a3f5f\",\"arrowhead\":0,\"arrowwidth\":1},\"geo\":{\"bgcolor\":\"white\",\"landcolor\":\"#E5ECF6\",\"subunitcolor\":\"white\",\"showland\":true,\"showlakes\":true,\"lakecolor\":\"white\"},\"title\":{\"x\":0.05},\"mapbox\":{\"style\":\"light\"}}},\"legend\":{\"tracegroupgap\":0},\"title\":{\"text\":\"Tree Of Unique Negative Words\"}},                        {\"responsive\": true}                    ).then(function(){\n",
              "                            \n",
              "var gd = document.getElementById('7bca2278-d589-42ab-9533-2ab59bfbadd1');\n",
              "var x = new MutationObserver(function (mutations, observer) {{\n",
              "        var display = window.getComputedStyle(gd).display;\n",
              "        if (!display || display === 'none') {{\n",
              "            console.log([gd, 'removed!']);\n",
              "            Plotly.purge(gd);\n",
              "            observer.disconnect();\n",
              "        }}\n",
              "}});\n",
              "\n",
              "// Listen for the removal of the full notebook cells\n",
              "var notebookContainer = gd.closest('#notebook-container');\n",
              "if (notebookContainer) {{\n",
              "    x.observe(notebookContainer, {childList: true});\n",
              "}}\n",
              "\n",
              "// Listen for the clearing of the current output cell\n",
              "var outputEl = gd.closest('.output');\n",
              "if (outputEl) {{\n",
              "    x.observe(outputEl, {childList: true});\n",
              "}}\n",
              "\n",
              "                        })                };                            </script>        </div>\n",
              "</body>\n",
              "</html>"
            ]
          },
          "metadata": {}
        }
      ]
    },
    {
      "cell_type": "code",
      "source": [
        "# Display the top words for each sentiment class - Neutral\n",
        "print(\"\\nTop 20 Words - Neutral Sentiment:\")\n",
        "print()\n",
        "\n",
        "# Apply background gradient styling and display the DataFrame\n",
        "styled_neutral_words = top_neutral_words.style.background_gradient(cmap='Greens')\n",
        "styled_neutral_words"
      ],
      "metadata": {
        "colab": {
          "base_uri": "https://localhost:8080/",
          "height": 732
        },
        "id": "TNliODEmfedx",
        "outputId": "f586268a-3f70-4bdd-9c97-89259fe7803a"
      },
      "execution_count": 102,
      "outputs": [
        {
          "output_type": "stream",
          "name": "stdout",
          "text": [
            "\n",
            "Top 20 Words - Neutral Sentiment:\n",
            "\n"
          ]
        },
        {
          "output_type": "execute_result",
          "data": {
            "text/plain": [
              "<pandas.io.formats.style.Styler at 0x7b6cb29af3a0>"
            ],
            "text/html": [
              "<style type=\"text/css\">\n",
              "#T_ae7f8_row0_col1 {\n",
              "  background-color: #00441b;\n",
              "  color: #f1f1f1;\n",
              "}\n",
              "#T_ae7f8_row1_col1 {\n",
              "  background-color: #00451c;\n",
              "  color: #f1f1f1;\n",
              "}\n",
              "#T_ae7f8_row2_col1 {\n",
              "  background-color: #37a055;\n",
              "  color: #f1f1f1;\n",
              "}\n",
              "#T_ae7f8_row3_col1 {\n",
              "  background-color: #8ed08b;\n",
              "  color: #000000;\n",
              "}\n",
              "#T_ae7f8_row4_col1 {\n",
              "  background-color: #92d28f;\n",
              "  color: #000000;\n",
              "}\n",
              "#T_ae7f8_row5_col1 {\n",
              "  background-color: #bee5b8;\n",
              "  color: #000000;\n",
              "}\n",
              "#T_ae7f8_row6_col1 {\n",
              "  background-color: #d0edca;\n",
              "  color: #000000;\n",
              "}\n",
              "#T_ae7f8_row7_col1 {\n",
              "  background-color: #d4eece;\n",
              "  color: #000000;\n",
              "}\n",
              "#T_ae7f8_row8_col1 {\n",
              "  background-color: #d9f0d3;\n",
              "  color: #000000;\n",
              "}\n",
              "#T_ae7f8_row9_col1 {\n",
              "  background-color: #dcf2d7;\n",
              "  color: #000000;\n",
              "}\n",
              "#T_ae7f8_row10_col1 {\n",
              "  background-color: #dff3da;\n",
              "  color: #000000;\n",
              "}\n",
              "#T_ae7f8_row11_col1 {\n",
              "  background-color: #e0f3db;\n",
              "  color: #000000;\n",
              "}\n",
              "#T_ae7f8_row12_col1 {\n",
              "  background-color: #e2f4dd;\n",
              "  color: #000000;\n",
              "}\n",
              "#T_ae7f8_row13_col1 {\n",
              "  background-color: #e5f5e1;\n",
              "  color: #000000;\n",
              "}\n",
              "#T_ae7f8_row14_col1 {\n",
              "  background-color: #e9f7e5;\n",
              "  color: #000000;\n",
              "}\n",
              "#T_ae7f8_row15_col1, #T_ae7f8_row16_col1 {\n",
              "  background-color: #eff9eb;\n",
              "  color: #000000;\n",
              "}\n",
              "#T_ae7f8_row17_col1 {\n",
              "  background-color: #f4fbf1;\n",
              "  color: #000000;\n",
              "}\n",
              "#T_ae7f8_row18_col1 {\n",
              "  background-color: #f6fcf4;\n",
              "  color: #000000;\n",
              "}\n",
              "#T_ae7f8_row19_col1 {\n",
              "  background-color: #f7fcf5;\n",
              "  color: #000000;\n",
              "}\n",
              "</style>\n",
              "<table id=\"T_ae7f8\" class=\"dataframe\">\n",
              "  <thead>\n",
              "    <tr>\n",
              "      <th class=\"blank level0\" >&nbsp;</th>\n",
              "      <th id=\"T_ae7f8_level0_col0\" class=\"col_heading level0 col0\" >Word</th>\n",
              "      <th id=\"T_ae7f8_level0_col1\" class=\"col_heading level0 col1\" >Count</th>\n",
              "    </tr>\n",
              "  </thead>\n",
              "  <tbody>\n",
              "    <tr>\n",
              "      <th id=\"T_ae7f8_level0_row0\" class=\"row_heading level0 row0\" >19</th>\n",
              "      <td id=\"T_ae7f8_row0_col0\" class=\"data row0 col0\" >im</td>\n",
              "      <td id=\"T_ae7f8_row0_col1\" class=\"data row0 col1\" >1058</td>\n",
              "    </tr>\n",
              "    <tr>\n",
              "      <th id=\"T_ae7f8_level0_row1\" class=\"row_heading level0 row1\" >2</th>\n",
              "      <td id=\"T_ae7f8_row1_col0\" class=\"data row1 col0\" >go</td>\n",
              "      <td id=\"T_ae7f8_row1_col1\" class=\"data row1 col1\" >1055</td>\n",
              "    </tr>\n",
              "    <tr>\n",
              "      <th id=\"T_ae7f8_level0_row2\" class=\"row_heading level0 row2\" >23</th>\n",
              "      <td id=\"T_ae7f8_row2_col0\" class=\"data row2 col0\" >get</td>\n",
              "      <td id=\"T_ae7f8_row2_col1\" class=\"data row2 col1\" >819</td>\n",
              "    </tr>\n",
              "    <tr>\n",
              "      <th id=\"T_ae7f8_level0_row3\" class=\"row_heading level0 row3\" >164</th>\n",
              "      <td id=\"T_ae7f8_row3_col0\" class=\"data row3 col0\" >work</td>\n",
              "      <td id=\"T_ae7f8_row3_col1\" class=\"data row3 col1\" >647</td>\n",
              "    </tr>\n",
              "    <tr>\n",
              "      <th id=\"T_ae7f8_level0_row4\" class=\"row_heading level0 row4\" >320</th>\n",
              "      <td id=\"T_ae7f8_row4_col0\" class=\"data row4 col0\" >day</td>\n",
              "      <td id=\"T_ae7f8_row4_col1\" class=\"data row4 col1\" >638</td>\n",
              "    </tr>\n",
              "    <tr>\n",
              "      <th id=\"T_ae7f8_level0_row5\" class=\"row_heading level0 row5\" >42</th>\n",
              "      <td id=\"T_ae7f8_row5_col0\" class=\"data row5 col0\" >got</td>\n",
              "      <td id=\"T_ae7f8_row5_col1\" class=\"data row5 col1\" >539</td>\n",
              "    </tr>\n",
              "    <tr>\n",
              "      <th id=\"T_ae7f8_level0_row6\" class=\"row_heading level0 row6\" >285</th>\n",
              "      <td id=\"T_ae7f8_row6_col0\" class=\"data row6 col0\" >dont</td>\n",
              "      <td id=\"T_ae7f8_row6_col1\" class=\"data row6 col1\" >491</td>\n",
              "    </tr>\n",
              "    <tr>\n",
              "      <th id=\"T_ae7f8_level0_row7\" class=\"row_heading level0 row7\" >112</th>\n",
              "      <td id=\"T_ae7f8_row7_col0\" class=\"data row7 col0\" >like</td>\n",
              "      <td id=\"T_ae7f8_row7_col1\" class=\"data row7 col1\" >482</td>\n",
              "    </tr>\n",
              "    <tr>\n",
              "      <th id=\"T_ae7f8_level0_row8\" class=\"row_heading level0 row8\" >224</th>\n",
              "      <td id=\"T_ae7f8_row8_col0\" class=\"data row8 col0\" >time</td>\n",
              "      <td id=\"T_ae7f8_row8_col1\" class=\"data row8 col1\" >468</td>\n",
              "    </tr>\n",
              "    <tr>\n",
              "      <th id=\"T_ae7f8_level0_row9\" class=\"row_heading level0 row9\" >233</th>\n",
              "      <td id=\"T_ae7f8_row9_col0\" class=\"data row9 col0\" >lol</td>\n",
              "      <td id=\"T_ae7f8_row9_col1\" class=\"data row9 col1\" >455</td>\n",
              "    </tr>\n",
              "    <tr>\n",
              "      <th id=\"T_ae7f8_level0_row10\" class=\"row_heading level0 row10\" >325</th>\n",
              "      <td id=\"T_ae7f8_row10_col0\" class=\"data row10 col0\" >want</td>\n",
              "      <td id=\"T_ae7f8_row10_col1\" class=\"data row10 col1\" >448</td>\n",
              "    </tr>\n",
              "    <tr>\n",
              "      <th id=\"T_ae7f8_level0_row11\" class=\"row_heading level0 row11\" >41</th>\n",
              "      <td id=\"T_ae7f8_row11_col0\" class=\"data row11 col0\" >today</td>\n",
              "      <td id=\"T_ae7f8_row11_col1\" class=\"data row11 col1\" >443</td>\n",
              "    </tr>\n",
              "    <tr>\n",
              "      <th id=\"T_ae7f8_level0_row12\" class=\"row_heading level0 row12\" >186</th>\n",
              "      <td id=\"T_ae7f8_row12_col0\" class=\"data row12 col0\" >one</td>\n",
              "      <td id=\"T_ae7f8_row12_col1\" class=\"data row12 col1\" >438</td>\n",
              "    </tr>\n",
              "    <tr>\n",
              "      <th id=\"T_ae7f8_level0_row13\" class=\"row_heading level0 row13\" >166</th>\n",
              "      <td id=\"T_ae7f8_row13_col0\" class=\"data row13 col0\" >know</td>\n",
              "      <td id=\"T_ae7f8_row13_col1\" class=\"data row13 col1\" >428</td>\n",
              "    </tr>\n",
              "    <tr>\n",
              "      <th id=\"T_ae7f8_level0_row14\" class=\"row_heading level0 row14\" >154</th>\n",
              "      <td id=\"T_ae7f8_row14_col0\" class=\"data row14 col0\" >back</td>\n",
              "      <td id=\"T_ae7f8_row14_col1\" class=\"data row14 col1\" >412</td>\n",
              "    </tr>\n",
              "    <tr>\n",
              "      <th id=\"T_ae7f8_level0_row15\" class=\"row_heading level0 row15\" >200</th>\n",
              "      <td id=\"T_ae7f8_row15_col0\" class=\"data row15 col0\" >u</td>\n",
              "      <td id=\"T_ae7f8_row15_col1\" class=\"data row15 col1\" >383</td>\n",
              "    </tr>\n",
              "    <tr>\n",
              "      <th id=\"T_ae7f8_level0_row16\" class=\"row_heading level0 row16\" >53</th>\n",
              "      <td id=\"T_ae7f8_row16_col0\" class=\"data row16 col0\" >see</td>\n",
              "      <td id=\"T_ae7f8_row16_col1\" class=\"data row16 col1\" >382</td>\n",
              "    </tr>\n",
              "    <tr>\n",
              "      <th id=\"T_ae7f8_level0_row17\" class=\"row_heading level0 row17\" >273</th>\n",
              "      <td id=\"T_ae7f8_row17_col0\" class=\"data row17 col0\" >think</td>\n",
              "      <td id=\"T_ae7f8_row17_col1\" class=\"data row17 col1\" >356</td>\n",
              "    </tr>\n",
              "    <tr>\n",
              "      <th id=\"T_ae7f8_level0_row18\" class=\"row_heading level0 row18\" >393</th>\n",
              "      <td id=\"T_ae7f8_row18_col0\" class=\"data row18 col0\" >cant</td>\n",
              "      <td id=\"T_ae7f8_row18_col1\" class=\"data row18 col1\" >345</td>\n",
              "    </tr>\n",
              "    <tr>\n",
              "      <th id=\"T_ae7f8_level0_row19\" class=\"row_heading level0 row19\" >359</th>\n",
              "      <td id=\"T_ae7f8_row19_col0\" class=\"data row19 col0\" >home</td>\n",
              "      <td id=\"T_ae7f8_row19_col1\" class=\"data row19 col1\" >339</td>\n",
              "    </tr>\n",
              "  </tbody>\n",
              "</table>\n"
            ]
          },
          "metadata": {},
          "execution_count": 102
        }
      ]
    },
    {
      "cell_type": "code",
      "source": [
        "# Create a treemap using Plotly Express to visualize top neutral words\n",
        "fig = px.treemap(top_neutral_words, path=['Word'], values='Count', title='Tree Of Unique Neutral Words')\n",
        "fig.show()"
      ],
      "metadata": {
        "colab": {
          "base_uri": "https://localhost:8080/",
          "height": 542
        },
        "id": "6nLhcs4ffoed",
        "outputId": "3d3cc7ea-73db-4189-930a-d403420b3618"
      },
      "execution_count": 103,
      "outputs": [
        {
          "output_type": "display_data",
          "data": {
            "text/html": [
              "<html>\n",
              "<head><meta charset=\"utf-8\" /></head>\n",
              "<body>\n",
              "    <div>            <script src=\"https://cdnjs.cloudflare.com/ajax/libs/mathjax/2.7.5/MathJax.js?config=TeX-AMS-MML_SVG\"></script><script type=\"text/javascript\">if (window.MathJax && window.MathJax.Hub && window.MathJax.Hub.Config) {window.MathJax.Hub.Config({SVG: {font: \"STIX-Web\"}});}</script>                <script type=\"text/javascript\">window.PlotlyConfig = {MathJaxConfig: 'local'};</script>\n",
              "        <script src=\"https://cdn.plot.ly/plotly-2.18.2.min.js\"></script>                <div id=\"df51adfa-0982-413e-8708-4730e50aa6a9\" class=\"plotly-graph-div\" style=\"height:525px; width:100%;\"></div>            <script type=\"text/javascript\">                                    window.PLOTLYENV=window.PLOTLYENV || {};                                    if (document.getElementById(\"df51adfa-0982-413e-8708-4730e50aa6a9\")) {                    Plotly.newPlot(                        \"df51adfa-0982-413e-8708-4730e50aa6a9\",                        [{\"branchvalues\":\"total\",\"domain\":{\"x\":[0.0,1.0],\"y\":[0.0,1.0]},\"hovertemplate\":\"labels=%{label}<br>Count=%{value}<br>parent=%{parent}<br>id=%{id}<extra></extra>\",\"ids\":[\"back\",\"cant\",\"day\",\"dont\",\"get\",\"go\",\"got\",\"home\",\"im\",\"know\",\"like\",\"lol\",\"one\",\"see\",\"think\",\"time\",\"today\",\"u\",\"want\",\"work\"],\"labels\":[\"back\",\"cant\",\"day\",\"dont\",\"get\",\"go\",\"got\",\"home\",\"im\",\"know\",\"like\",\"lol\",\"one\",\"see\",\"think\",\"time\",\"today\",\"u\",\"want\",\"work\"],\"name\":\"\",\"parents\":[\"\",\"\",\"\",\"\",\"\",\"\",\"\",\"\",\"\",\"\",\"\",\"\",\"\",\"\",\"\",\"\",\"\",\"\",\"\",\"\"],\"values\":[412,345,638,491,819,1055,539,339,1058,428,482,455,438,382,356,468,443,383,448,647],\"type\":\"treemap\"}],                        {\"template\":{\"data\":{\"histogram2dcontour\":[{\"type\":\"histogram2dcontour\",\"colorbar\":{\"outlinewidth\":0,\"ticks\":\"\"},\"colorscale\":[[0.0,\"#0d0887\"],[0.1111111111111111,\"#46039f\"],[0.2222222222222222,\"#7201a8\"],[0.3333333333333333,\"#9c179e\"],[0.4444444444444444,\"#bd3786\"],[0.5555555555555556,\"#d8576b\"],[0.6666666666666666,\"#ed7953\"],[0.7777777777777778,\"#fb9f3a\"],[0.8888888888888888,\"#fdca26\"],[1.0,\"#f0f921\"]]}],\"choropleth\":[{\"type\":\"choropleth\",\"colorbar\":{\"outlinewidth\":0,\"ticks\":\"\"}}],\"histogram2d\":[{\"type\":\"histogram2d\",\"colorbar\":{\"outlinewidth\":0,\"ticks\":\"\"},\"colorscale\":[[0.0,\"#0d0887\"],[0.1111111111111111,\"#46039f\"],[0.2222222222222222,\"#7201a8\"],[0.3333333333333333,\"#9c179e\"],[0.4444444444444444,\"#bd3786\"],[0.5555555555555556,\"#d8576b\"],[0.6666666666666666,\"#ed7953\"],[0.7777777777777778,\"#fb9f3a\"],[0.8888888888888888,\"#fdca26\"],[1.0,\"#f0f921\"]]}],\"heatmap\":[{\"type\":\"heatmap\",\"colorbar\":{\"outlinewidth\":0,\"ticks\":\"\"},\"colorscale\":[[0.0,\"#0d0887\"],[0.1111111111111111,\"#46039f\"],[0.2222222222222222,\"#7201a8\"],[0.3333333333333333,\"#9c179e\"],[0.4444444444444444,\"#bd3786\"],[0.5555555555555556,\"#d8576b\"],[0.6666666666666666,\"#ed7953\"],[0.7777777777777778,\"#fb9f3a\"],[0.8888888888888888,\"#fdca26\"],[1.0,\"#f0f921\"]]}],\"heatmapgl\":[{\"type\":\"heatmapgl\",\"colorbar\":{\"outlinewidth\":0,\"ticks\":\"\"},\"colorscale\":[[0.0,\"#0d0887\"],[0.1111111111111111,\"#46039f\"],[0.2222222222222222,\"#7201a8\"],[0.3333333333333333,\"#9c179e\"],[0.4444444444444444,\"#bd3786\"],[0.5555555555555556,\"#d8576b\"],[0.6666666666666666,\"#ed7953\"],[0.7777777777777778,\"#fb9f3a\"],[0.8888888888888888,\"#fdca26\"],[1.0,\"#f0f921\"]]}],\"contourcarpet\":[{\"type\":\"contourcarpet\",\"colorbar\":{\"outlinewidth\":0,\"ticks\":\"\"}}],\"contour\":[{\"type\":\"contour\",\"colorbar\":{\"outlinewidth\":0,\"ticks\":\"\"},\"colorscale\":[[0.0,\"#0d0887\"],[0.1111111111111111,\"#46039f\"],[0.2222222222222222,\"#7201a8\"],[0.3333333333333333,\"#9c179e\"],[0.4444444444444444,\"#bd3786\"],[0.5555555555555556,\"#d8576b\"],[0.6666666666666666,\"#ed7953\"],[0.7777777777777778,\"#fb9f3a\"],[0.8888888888888888,\"#fdca26\"],[1.0,\"#f0f921\"]]}],\"surface\":[{\"type\":\"surface\",\"colorbar\":{\"outlinewidth\":0,\"ticks\":\"\"},\"colorscale\":[[0.0,\"#0d0887\"],[0.1111111111111111,\"#46039f\"],[0.2222222222222222,\"#7201a8\"],[0.3333333333333333,\"#9c179e\"],[0.4444444444444444,\"#bd3786\"],[0.5555555555555556,\"#d8576b\"],[0.6666666666666666,\"#ed7953\"],[0.7777777777777778,\"#fb9f3a\"],[0.8888888888888888,\"#fdca26\"],[1.0,\"#f0f921\"]]}],\"mesh3d\":[{\"type\":\"mesh3d\",\"colorbar\":{\"outlinewidth\":0,\"ticks\":\"\"}}],\"scatter\":[{\"fillpattern\":{\"fillmode\":\"overlay\",\"size\":10,\"solidity\":0.2},\"type\":\"scatter\"}],\"parcoords\":[{\"type\":\"parcoords\",\"line\":{\"colorbar\":{\"outlinewidth\":0,\"ticks\":\"\"}}}],\"scatterpolargl\":[{\"type\":\"scatterpolargl\",\"marker\":{\"colorbar\":{\"outlinewidth\":0,\"ticks\":\"\"}}}],\"bar\":[{\"error_x\":{\"color\":\"#2a3f5f\"},\"error_y\":{\"color\":\"#2a3f5f\"},\"marker\":{\"line\":{\"color\":\"#E5ECF6\",\"width\":0.5},\"pattern\":{\"fillmode\":\"overlay\",\"size\":10,\"solidity\":0.2}},\"type\":\"bar\"}],\"scattergeo\":[{\"type\":\"scattergeo\",\"marker\":{\"colorbar\":{\"outlinewidth\":0,\"ticks\":\"\"}}}],\"scatterpolar\":[{\"type\":\"scatterpolar\",\"marker\":{\"colorbar\":{\"outlinewidth\":0,\"ticks\":\"\"}}}],\"histogram\":[{\"marker\":{\"pattern\":{\"fillmode\":\"overlay\",\"size\":10,\"solidity\":0.2}},\"type\":\"histogram\"}],\"scattergl\":[{\"type\":\"scattergl\",\"marker\":{\"colorbar\":{\"outlinewidth\":0,\"ticks\":\"\"}}}],\"scatter3d\":[{\"type\":\"scatter3d\",\"line\":{\"colorbar\":{\"outlinewidth\":0,\"ticks\":\"\"}},\"marker\":{\"colorbar\":{\"outlinewidth\":0,\"ticks\":\"\"}}}],\"scattermapbox\":[{\"type\":\"scattermapbox\",\"marker\":{\"colorbar\":{\"outlinewidth\":0,\"ticks\":\"\"}}}],\"scatterternary\":[{\"type\":\"scatterternary\",\"marker\":{\"colorbar\":{\"outlinewidth\":0,\"ticks\":\"\"}}}],\"scattercarpet\":[{\"type\":\"scattercarpet\",\"marker\":{\"colorbar\":{\"outlinewidth\":0,\"ticks\":\"\"}}}],\"carpet\":[{\"aaxis\":{\"endlinecolor\":\"#2a3f5f\",\"gridcolor\":\"white\",\"linecolor\":\"white\",\"minorgridcolor\":\"white\",\"startlinecolor\":\"#2a3f5f\"},\"baxis\":{\"endlinecolor\":\"#2a3f5f\",\"gridcolor\":\"white\",\"linecolor\":\"white\",\"minorgridcolor\":\"white\",\"startlinecolor\":\"#2a3f5f\"},\"type\":\"carpet\"}],\"table\":[{\"cells\":{\"fill\":{\"color\":\"#EBF0F8\"},\"line\":{\"color\":\"white\"}},\"header\":{\"fill\":{\"color\":\"#C8D4E3\"},\"line\":{\"color\":\"white\"}},\"type\":\"table\"}],\"barpolar\":[{\"marker\":{\"line\":{\"color\":\"#E5ECF6\",\"width\":0.5},\"pattern\":{\"fillmode\":\"overlay\",\"size\":10,\"solidity\":0.2}},\"type\":\"barpolar\"}],\"pie\":[{\"automargin\":true,\"type\":\"pie\"}]},\"layout\":{\"autotypenumbers\":\"strict\",\"colorway\":[\"#636efa\",\"#EF553B\",\"#00cc96\",\"#ab63fa\",\"#FFA15A\",\"#19d3f3\",\"#FF6692\",\"#B6E880\",\"#FF97FF\",\"#FECB52\"],\"font\":{\"color\":\"#2a3f5f\"},\"hovermode\":\"closest\",\"hoverlabel\":{\"align\":\"left\"},\"paper_bgcolor\":\"white\",\"plot_bgcolor\":\"#E5ECF6\",\"polar\":{\"bgcolor\":\"#E5ECF6\",\"angularaxis\":{\"gridcolor\":\"white\",\"linecolor\":\"white\",\"ticks\":\"\"},\"radialaxis\":{\"gridcolor\":\"white\",\"linecolor\":\"white\",\"ticks\":\"\"}},\"ternary\":{\"bgcolor\":\"#E5ECF6\",\"aaxis\":{\"gridcolor\":\"white\",\"linecolor\":\"white\",\"ticks\":\"\"},\"baxis\":{\"gridcolor\":\"white\",\"linecolor\":\"white\",\"ticks\":\"\"},\"caxis\":{\"gridcolor\":\"white\",\"linecolor\":\"white\",\"ticks\":\"\"}},\"coloraxis\":{\"colorbar\":{\"outlinewidth\":0,\"ticks\":\"\"}},\"colorscale\":{\"sequential\":[[0.0,\"#0d0887\"],[0.1111111111111111,\"#46039f\"],[0.2222222222222222,\"#7201a8\"],[0.3333333333333333,\"#9c179e\"],[0.4444444444444444,\"#bd3786\"],[0.5555555555555556,\"#d8576b\"],[0.6666666666666666,\"#ed7953\"],[0.7777777777777778,\"#fb9f3a\"],[0.8888888888888888,\"#fdca26\"],[1.0,\"#f0f921\"]],\"sequentialminus\":[[0.0,\"#0d0887\"],[0.1111111111111111,\"#46039f\"],[0.2222222222222222,\"#7201a8\"],[0.3333333333333333,\"#9c179e\"],[0.4444444444444444,\"#bd3786\"],[0.5555555555555556,\"#d8576b\"],[0.6666666666666666,\"#ed7953\"],[0.7777777777777778,\"#fb9f3a\"],[0.8888888888888888,\"#fdca26\"],[1.0,\"#f0f921\"]],\"diverging\":[[0,\"#8e0152\"],[0.1,\"#c51b7d\"],[0.2,\"#de77ae\"],[0.3,\"#f1b6da\"],[0.4,\"#fde0ef\"],[0.5,\"#f7f7f7\"],[0.6,\"#e6f5d0\"],[0.7,\"#b8e186\"],[0.8,\"#7fbc41\"],[0.9,\"#4d9221\"],[1,\"#276419\"]]},\"xaxis\":{\"gridcolor\":\"white\",\"linecolor\":\"white\",\"ticks\":\"\",\"title\":{\"standoff\":15},\"zerolinecolor\":\"white\",\"automargin\":true,\"zerolinewidth\":2},\"yaxis\":{\"gridcolor\":\"white\",\"linecolor\":\"white\",\"ticks\":\"\",\"title\":{\"standoff\":15},\"zerolinecolor\":\"white\",\"automargin\":true,\"zerolinewidth\":2},\"scene\":{\"xaxis\":{\"backgroundcolor\":\"#E5ECF6\",\"gridcolor\":\"white\",\"linecolor\":\"white\",\"showbackground\":true,\"ticks\":\"\",\"zerolinecolor\":\"white\",\"gridwidth\":2},\"yaxis\":{\"backgroundcolor\":\"#E5ECF6\",\"gridcolor\":\"white\",\"linecolor\":\"white\",\"showbackground\":true,\"ticks\":\"\",\"zerolinecolor\":\"white\",\"gridwidth\":2},\"zaxis\":{\"backgroundcolor\":\"#E5ECF6\",\"gridcolor\":\"white\",\"linecolor\":\"white\",\"showbackground\":true,\"ticks\":\"\",\"zerolinecolor\":\"white\",\"gridwidth\":2}},\"shapedefaults\":{\"line\":{\"color\":\"#2a3f5f\"}},\"annotationdefaults\":{\"arrowcolor\":\"#2a3f5f\",\"arrowhead\":0,\"arrowwidth\":1},\"geo\":{\"bgcolor\":\"white\",\"landcolor\":\"#E5ECF6\",\"subunitcolor\":\"white\",\"showland\":true,\"showlakes\":true,\"lakecolor\":\"white\"},\"title\":{\"x\":0.05},\"mapbox\":{\"style\":\"light\"}}},\"legend\":{\"tracegroupgap\":0},\"title\":{\"text\":\"Tree Of Unique Neutral Words\"}},                        {\"responsive\": true}                    ).then(function(){\n",
              "                            \n",
              "var gd = document.getElementById('df51adfa-0982-413e-8708-4730e50aa6a9');\n",
              "var x = new MutationObserver(function (mutations, observer) {{\n",
              "        var display = window.getComputedStyle(gd).display;\n",
              "        if (!display || display === 'none') {{\n",
              "            console.log([gd, 'removed!']);\n",
              "            Plotly.purge(gd);\n",
              "            observer.disconnect();\n",
              "        }}\n",
              "}});\n",
              "\n",
              "// Listen for the removal of the full notebook cells\n",
              "var notebookContainer = gd.closest('#notebook-container');\n",
              "if (notebookContainer) {{\n",
              "    x.observe(notebookContainer, {childList: true});\n",
              "}}\n",
              "\n",
              "// Listen for the clearing of the current output cell\n",
              "var outputEl = gd.closest('.output');\n",
              "if (outputEl) {{\n",
              "    x.observe(outputEl, {childList: true});\n",
              "}}\n",
              "\n",
              "                        })                };                            </script>        </div>\n",
              "</body>\n",
              "</html>"
            ]
          },
          "metadata": {}
        }
      ]
    }
  ]
}
